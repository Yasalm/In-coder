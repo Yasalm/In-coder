{
 "cells": [
  {
   "cell_type": "code",
   "execution_count": 2,
   "metadata": {},
   "outputs": [],
   "source": [
    "import requests\n",
    "import numpy as np\n",
    "from io import BytesIO\n",
    "import json"
   ]
  },
  {
   "cell_type": "code",
   "execution_count": 3,
   "metadata": {},
   "outputs": [],
   "source": [
    "x = np.arange(28*28).reshape(28, 28)"
   ]
  },
  {
   "cell_type": "code",
   "execution_count": 4,
   "metadata": {},
   "outputs": [
    {
     "data": {
      "text/plain": [
       "[[0,\n",
       "  1,\n",
       "  2,\n",
       "  3,\n",
       "  4,\n",
       "  5,\n",
       "  6,\n",
       "  7,\n",
       "  8,\n",
       "  9,\n",
       "  10,\n",
       "  11,\n",
       "  12,\n",
       "  13,\n",
       "  14,\n",
       "  15,\n",
       "  16,\n",
       "  17,\n",
       "  18,\n",
       "  19,\n",
       "  20,\n",
       "  21,\n",
       "  22,\n",
       "  23,\n",
       "  24,\n",
       "  25,\n",
       "  26,\n",
       "  27],\n",
       " [28,\n",
       "  29,\n",
       "  30,\n",
       "  31,\n",
       "  32,\n",
       "  33,\n",
       "  34,\n",
       "  35,\n",
       "  36,\n",
       "  37,\n",
       "  38,\n",
       "  39,\n",
       "  40,\n",
       "  41,\n",
       "  42,\n",
       "  43,\n",
       "  44,\n",
       "  45,\n",
       "  46,\n",
       "  47,\n",
       "  48,\n",
       "  49,\n",
       "  50,\n",
       "  51,\n",
       "  52,\n",
       "  53,\n",
       "  54,\n",
       "  55],\n",
       " [56,\n",
       "  57,\n",
       "  58,\n",
       "  59,\n",
       "  60,\n",
       "  61,\n",
       "  62,\n",
       "  63,\n",
       "  64,\n",
       "  65,\n",
       "  66,\n",
       "  67,\n",
       "  68,\n",
       "  69,\n",
       "  70,\n",
       "  71,\n",
       "  72,\n",
       "  73,\n",
       "  74,\n",
       "  75,\n",
       "  76,\n",
       "  77,\n",
       "  78,\n",
       "  79,\n",
       "  80,\n",
       "  81,\n",
       "  82,\n",
       "  83],\n",
       " [84,\n",
       "  85,\n",
       "  86,\n",
       "  87,\n",
       "  88,\n",
       "  89,\n",
       "  90,\n",
       "  91,\n",
       "  92,\n",
       "  93,\n",
       "  94,\n",
       "  95,\n",
       "  96,\n",
       "  97,\n",
       "  98,\n",
       "  99,\n",
       "  100,\n",
       "  101,\n",
       "  102,\n",
       "  103,\n",
       "  104,\n",
       "  105,\n",
       "  106,\n",
       "  107,\n",
       "  108,\n",
       "  109,\n",
       "  110,\n",
       "  111],\n",
       " [112,\n",
       "  113,\n",
       "  114,\n",
       "  115,\n",
       "  116,\n",
       "  117,\n",
       "  118,\n",
       "  119,\n",
       "  120,\n",
       "  121,\n",
       "  122,\n",
       "  123,\n",
       "  124,\n",
       "  125,\n",
       "  126,\n",
       "  127,\n",
       "  128,\n",
       "  129,\n",
       "  130,\n",
       "  131,\n",
       "  132,\n",
       "  133,\n",
       "  134,\n",
       "  135,\n",
       "  136,\n",
       "  137,\n",
       "  138,\n",
       "  139],\n",
       " [140,\n",
       "  141,\n",
       "  142,\n",
       "  143,\n",
       "  144,\n",
       "  145,\n",
       "  146,\n",
       "  147,\n",
       "  148,\n",
       "  149,\n",
       "  150,\n",
       "  151,\n",
       "  152,\n",
       "  153,\n",
       "  154,\n",
       "  155,\n",
       "  156,\n",
       "  157,\n",
       "  158,\n",
       "  159,\n",
       "  160,\n",
       "  161,\n",
       "  162,\n",
       "  163,\n",
       "  164,\n",
       "  165,\n",
       "  166,\n",
       "  167],\n",
       " [168,\n",
       "  169,\n",
       "  170,\n",
       "  171,\n",
       "  172,\n",
       "  173,\n",
       "  174,\n",
       "  175,\n",
       "  176,\n",
       "  177,\n",
       "  178,\n",
       "  179,\n",
       "  180,\n",
       "  181,\n",
       "  182,\n",
       "  183,\n",
       "  184,\n",
       "  185,\n",
       "  186,\n",
       "  187,\n",
       "  188,\n",
       "  189,\n",
       "  190,\n",
       "  191,\n",
       "  192,\n",
       "  193,\n",
       "  194,\n",
       "  195],\n",
       " [196,\n",
       "  197,\n",
       "  198,\n",
       "  199,\n",
       "  200,\n",
       "  201,\n",
       "  202,\n",
       "  203,\n",
       "  204,\n",
       "  205,\n",
       "  206,\n",
       "  207,\n",
       "  208,\n",
       "  209,\n",
       "  210,\n",
       "  211,\n",
       "  212,\n",
       "  213,\n",
       "  214,\n",
       "  215,\n",
       "  216,\n",
       "  217,\n",
       "  218,\n",
       "  219,\n",
       "  220,\n",
       "  221,\n",
       "  222,\n",
       "  223],\n",
       " [224,\n",
       "  225,\n",
       "  226,\n",
       "  227,\n",
       "  228,\n",
       "  229,\n",
       "  230,\n",
       "  231,\n",
       "  232,\n",
       "  233,\n",
       "  234,\n",
       "  235,\n",
       "  236,\n",
       "  237,\n",
       "  238,\n",
       "  239,\n",
       "  240,\n",
       "  241,\n",
       "  242,\n",
       "  243,\n",
       "  244,\n",
       "  245,\n",
       "  246,\n",
       "  247,\n",
       "  248,\n",
       "  249,\n",
       "  250,\n",
       "  251],\n",
       " [252,\n",
       "  253,\n",
       "  254,\n",
       "  255,\n",
       "  256,\n",
       "  257,\n",
       "  258,\n",
       "  259,\n",
       "  260,\n",
       "  261,\n",
       "  262,\n",
       "  263,\n",
       "  264,\n",
       "  265,\n",
       "  266,\n",
       "  267,\n",
       "  268,\n",
       "  269,\n",
       "  270,\n",
       "  271,\n",
       "  272,\n",
       "  273,\n",
       "  274,\n",
       "  275,\n",
       "  276,\n",
       "  277,\n",
       "  278,\n",
       "  279],\n",
       " [280,\n",
       "  281,\n",
       "  282,\n",
       "  283,\n",
       "  284,\n",
       "  285,\n",
       "  286,\n",
       "  287,\n",
       "  288,\n",
       "  289,\n",
       "  290,\n",
       "  291,\n",
       "  292,\n",
       "  293,\n",
       "  294,\n",
       "  295,\n",
       "  296,\n",
       "  297,\n",
       "  298,\n",
       "  299,\n",
       "  300,\n",
       "  301,\n",
       "  302,\n",
       "  303,\n",
       "  304,\n",
       "  305,\n",
       "  306,\n",
       "  307],\n",
       " [308,\n",
       "  309,\n",
       "  310,\n",
       "  311,\n",
       "  312,\n",
       "  313,\n",
       "  314,\n",
       "  315,\n",
       "  316,\n",
       "  317,\n",
       "  318,\n",
       "  319,\n",
       "  320,\n",
       "  321,\n",
       "  322,\n",
       "  323,\n",
       "  324,\n",
       "  325,\n",
       "  326,\n",
       "  327,\n",
       "  328,\n",
       "  329,\n",
       "  330,\n",
       "  331,\n",
       "  332,\n",
       "  333,\n",
       "  334,\n",
       "  335],\n",
       " [336,\n",
       "  337,\n",
       "  338,\n",
       "  339,\n",
       "  340,\n",
       "  341,\n",
       "  342,\n",
       "  343,\n",
       "  344,\n",
       "  345,\n",
       "  346,\n",
       "  347,\n",
       "  348,\n",
       "  349,\n",
       "  350,\n",
       "  351,\n",
       "  352,\n",
       "  353,\n",
       "  354,\n",
       "  355,\n",
       "  356,\n",
       "  357,\n",
       "  358,\n",
       "  359,\n",
       "  360,\n",
       "  361,\n",
       "  362,\n",
       "  363],\n",
       " [364,\n",
       "  365,\n",
       "  366,\n",
       "  367,\n",
       "  368,\n",
       "  369,\n",
       "  370,\n",
       "  371,\n",
       "  372,\n",
       "  373,\n",
       "  374,\n",
       "  375,\n",
       "  376,\n",
       "  377,\n",
       "  378,\n",
       "  379,\n",
       "  380,\n",
       "  381,\n",
       "  382,\n",
       "  383,\n",
       "  384,\n",
       "  385,\n",
       "  386,\n",
       "  387,\n",
       "  388,\n",
       "  389,\n",
       "  390,\n",
       "  391],\n",
       " [392,\n",
       "  393,\n",
       "  394,\n",
       "  395,\n",
       "  396,\n",
       "  397,\n",
       "  398,\n",
       "  399,\n",
       "  400,\n",
       "  401,\n",
       "  402,\n",
       "  403,\n",
       "  404,\n",
       "  405,\n",
       "  406,\n",
       "  407,\n",
       "  408,\n",
       "  409,\n",
       "  410,\n",
       "  411,\n",
       "  412,\n",
       "  413,\n",
       "  414,\n",
       "  415,\n",
       "  416,\n",
       "  417,\n",
       "  418,\n",
       "  419],\n",
       " [420,\n",
       "  421,\n",
       "  422,\n",
       "  423,\n",
       "  424,\n",
       "  425,\n",
       "  426,\n",
       "  427,\n",
       "  428,\n",
       "  429,\n",
       "  430,\n",
       "  431,\n",
       "  432,\n",
       "  433,\n",
       "  434,\n",
       "  435,\n",
       "  436,\n",
       "  437,\n",
       "  438,\n",
       "  439,\n",
       "  440,\n",
       "  441,\n",
       "  442,\n",
       "  443,\n",
       "  444,\n",
       "  445,\n",
       "  446,\n",
       "  447],\n",
       " [448,\n",
       "  449,\n",
       "  450,\n",
       "  451,\n",
       "  452,\n",
       "  453,\n",
       "  454,\n",
       "  455,\n",
       "  456,\n",
       "  457,\n",
       "  458,\n",
       "  459,\n",
       "  460,\n",
       "  461,\n",
       "  462,\n",
       "  463,\n",
       "  464,\n",
       "  465,\n",
       "  466,\n",
       "  467,\n",
       "  468,\n",
       "  469,\n",
       "  470,\n",
       "  471,\n",
       "  472,\n",
       "  473,\n",
       "  474,\n",
       "  475],\n",
       " [476,\n",
       "  477,\n",
       "  478,\n",
       "  479,\n",
       "  480,\n",
       "  481,\n",
       "  482,\n",
       "  483,\n",
       "  484,\n",
       "  485,\n",
       "  486,\n",
       "  487,\n",
       "  488,\n",
       "  489,\n",
       "  490,\n",
       "  491,\n",
       "  492,\n",
       "  493,\n",
       "  494,\n",
       "  495,\n",
       "  496,\n",
       "  497,\n",
       "  498,\n",
       "  499,\n",
       "  500,\n",
       "  501,\n",
       "  502,\n",
       "  503],\n",
       " [504,\n",
       "  505,\n",
       "  506,\n",
       "  507,\n",
       "  508,\n",
       "  509,\n",
       "  510,\n",
       "  511,\n",
       "  512,\n",
       "  513,\n",
       "  514,\n",
       "  515,\n",
       "  516,\n",
       "  517,\n",
       "  518,\n",
       "  519,\n",
       "  520,\n",
       "  521,\n",
       "  522,\n",
       "  523,\n",
       "  524,\n",
       "  525,\n",
       "  526,\n",
       "  527,\n",
       "  528,\n",
       "  529,\n",
       "  530,\n",
       "  531],\n",
       " [532,\n",
       "  533,\n",
       "  534,\n",
       "  535,\n",
       "  536,\n",
       "  537,\n",
       "  538,\n",
       "  539,\n",
       "  540,\n",
       "  541,\n",
       "  542,\n",
       "  543,\n",
       "  544,\n",
       "  545,\n",
       "  546,\n",
       "  547,\n",
       "  548,\n",
       "  549,\n",
       "  550,\n",
       "  551,\n",
       "  552,\n",
       "  553,\n",
       "  554,\n",
       "  555,\n",
       "  556,\n",
       "  557,\n",
       "  558,\n",
       "  559],\n",
       " [560,\n",
       "  561,\n",
       "  562,\n",
       "  563,\n",
       "  564,\n",
       "  565,\n",
       "  566,\n",
       "  567,\n",
       "  568,\n",
       "  569,\n",
       "  570,\n",
       "  571,\n",
       "  572,\n",
       "  573,\n",
       "  574,\n",
       "  575,\n",
       "  576,\n",
       "  577,\n",
       "  578,\n",
       "  579,\n",
       "  580,\n",
       "  581,\n",
       "  582,\n",
       "  583,\n",
       "  584,\n",
       "  585,\n",
       "  586,\n",
       "  587],\n",
       " [588,\n",
       "  589,\n",
       "  590,\n",
       "  591,\n",
       "  592,\n",
       "  593,\n",
       "  594,\n",
       "  595,\n",
       "  596,\n",
       "  597,\n",
       "  598,\n",
       "  599,\n",
       "  600,\n",
       "  601,\n",
       "  602,\n",
       "  603,\n",
       "  604,\n",
       "  605,\n",
       "  606,\n",
       "  607,\n",
       "  608,\n",
       "  609,\n",
       "  610,\n",
       "  611,\n",
       "  612,\n",
       "  613,\n",
       "  614,\n",
       "  615],\n",
       " [616,\n",
       "  617,\n",
       "  618,\n",
       "  619,\n",
       "  620,\n",
       "  621,\n",
       "  622,\n",
       "  623,\n",
       "  624,\n",
       "  625,\n",
       "  626,\n",
       "  627,\n",
       "  628,\n",
       "  629,\n",
       "  630,\n",
       "  631,\n",
       "  632,\n",
       "  633,\n",
       "  634,\n",
       "  635,\n",
       "  636,\n",
       "  637,\n",
       "  638,\n",
       "  639,\n",
       "  640,\n",
       "  641,\n",
       "  642,\n",
       "  643],\n",
       " [644,\n",
       "  645,\n",
       "  646,\n",
       "  647,\n",
       "  648,\n",
       "  649,\n",
       "  650,\n",
       "  651,\n",
       "  652,\n",
       "  653,\n",
       "  654,\n",
       "  655,\n",
       "  656,\n",
       "  657,\n",
       "  658,\n",
       "  659,\n",
       "  660,\n",
       "  661,\n",
       "  662,\n",
       "  663,\n",
       "  664,\n",
       "  665,\n",
       "  666,\n",
       "  667,\n",
       "  668,\n",
       "  669,\n",
       "  670,\n",
       "  671],\n",
       " [672,\n",
       "  673,\n",
       "  674,\n",
       "  675,\n",
       "  676,\n",
       "  677,\n",
       "  678,\n",
       "  679,\n",
       "  680,\n",
       "  681,\n",
       "  682,\n",
       "  683,\n",
       "  684,\n",
       "  685,\n",
       "  686,\n",
       "  687,\n",
       "  688,\n",
       "  689,\n",
       "  690,\n",
       "  691,\n",
       "  692,\n",
       "  693,\n",
       "  694,\n",
       "  695,\n",
       "  696,\n",
       "  697,\n",
       "  698,\n",
       "  699],\n",
       " [700,\n",
       "  701,\n",
       "  702,\n",
       "  703,\n",
       "  704,\n",
       "  705,\n",
       "  706,\n",
       "  707,\n",
       "  708,\n",
       "  709,\n",
       "  710,\n",
       "  711,\n",
       "  712,\n",
       "  713,\n",
       "  714,\n",
       "  715,\n",
       "  716,\n",
       "  717,\n",
       "  718,\n",
       "  719,\n",
       "  720,\n",
       "  721,\n",
       "  722,\n",
       "  723,\n",
       "  724,\n",
       "  725,\n",
       "  726,\n",
       "  727],\n",
       " [728,\n",
       "  729,\n",
       "  730,\n",
       "  731,\n",
       "  732,\n",
       "  733,\n",
       "  734,\n",
       "  735,\n",
       "  736,\n",
       "  737,\n",
       "  738,\n",
       "  739,\n",
       "  740,\n",
       "  741,\n",
       "  742,\n",
       "  743,\n",
       "  744,\n",
       "  745,\n",
       "  746,\n",
       "  747,\n",
       "  748,\n",
       "  749,\n",
       "  750,\n",
       "  751,\n",
       "  752,\n",
       "  753,\n",
       "  754,\n",
       "  755],\n",
       " [756,\n",
       "  757,\n",
       "  758,\n",
       "  759,\n",
       "  760,\n",
       "  761,\n",
       "  762,\n",
       "  763,\n",
       "  764,\n",
       "  765,\n",
       "  766,\n",
       "  767,\n",
       "  768,\n",
       "  769,\n",
       "  770,\n",
       "  771,\n",
       "  772,\n",
       "  773,\n",
       "  774,\n",
       "  775,\n",
       "  776,\n",
       "  777,\n",
       "  778,\n",
       "  779,\n",
       "  780,\n",
       "  781,\n",
       "  782,\n",
       "  783]]"
      ]
     },
     "execution_count": 4,
     "metadata": {},
     "output_type": "execute_result"
    }
   ],
   "source": [
    "x = x.tolist()\n",
    "x"
   ]
  },
  {
   "cell_type": "code",
   "execution_count": 5,
   "metadata": {},
   "outputs": [
    {
     "data": {
      "text/plain": [
       "int"
      ]
     },
     "execution_count": 5,
     "metadata": {},
     "output_type": "execute_result"
    }
   ],
   "source": [
    "type(x[0][0])"
   ]
  },
  {
   "cell_type": "code",
   "execution_count": 6,
   "metadata": {},
   "outputs": [],
   "source": [
    "r = requests.get(\"http://localhost:8000/\")"
   ]
  },
  {
   "cell_type": "code",
   "execution_count": 7,
   "metadata": {},
   "outputs": [
    {
     "data": {
      "text/plain": [
       "'{\"status\":\"OK\",\"collections\":[{\"collection\":\"Descriptions index\",\"desc\":\"this collection is used to search descrptions of products\",\"author\":\"Yasir\",\"version\":\"v0\",\"encoded_fields\":\"description\",\"source_schema\":[{\"Column\":\"name\",\"Type\":\"string\"},{\"Column\":\"images\",\"Type\":\"url\"},{\"Column\":\"alt\",\"Type\":\"natural_language\"},{\"Column\":\"description\",\"Type\":\"natural_language\"},{\"Column\":\"link\",\"Type\":\"url\"},{\"Column\":\"city\",\"Type\":\"categorical\"}],\"encoder\":\"super_resolution.onnx\"}]}'"
      ]
     },
     "execution_count": 7,
     "metadata": {},
     "output_type": "execute_result"
    }
   ],
   "source": [
    "r.text"
   ]
  },
  {
   "cell_type": "code",
   "execution_count": 8,
   "metadata": {},
   "outputs": [
    {
     "name": "stdout",
     "output_type": "stream",
     "text": [
      "{\n",
      "  \"status\": \"OK\",\n",
      "  \"collections\": [\n",
      "    {\n",
      "      \"collection\": \"Descriptions index\",\n",
      "      \"desc\": \"this collection is used to search descrptions of products\",\n",
      "      \"author\": \"Yasir\",\n",
      "      \"version\": \"v0\",\n",
      "      \"encoded_fields\": \"description\",\n",
      "      \"source_schema\": [\n",
      "        {\n",
      "          \"Column\": \"name\",\n",
      "          \"Type\": \"string\"\n",
      "        },\n",
      "        {\n",
      "          \"Column\": \"images\",\n",
      "          \"Type\": \"url\"\n",
      "        },\n",
      "        {\n",
      "          \"Column\": \"alt\",\n",
      "          \"Type\": \"natural_language\"\n",
      "        },\n",
      "        {\n",
      "          \"Column\": \"description\",\n",
      "          \"Type\": \"natural_language\"\n",
      "        },\n",
      "        {\n",
      "          \"Column\": \"link\",\n",
      "          \"Type\": \"url\"\n",
      "        },\n",
      "        {\n",
      "          \"Column\": \"city\",\n",
      "          \"Type\": \"categorical\"\n",
      "        }\n",
      "      ],\n",
      "      \"encoder\": \"super_resolution.onnx\"\n",
      "    }\n",
      "  ]\n",
      "}\n"
     ]
    }
   ],
   "source": [
    "content = json.loads(r.text)\n",
    "print(json.dumps(content, indent=2))"
   ]
  },
  {
   "cell_type": "code",
   "execution_count": 9,
   "metadata": {},
   "outputs": [
    {
     "ename": "SyntaxError",
     "evalue": "invalid syntax (152925359.py, line 1)",
     "output_type": "error",
     "traceback": [
      "\u001b[0;36m  Input \u001b[0;32mIn [9]\u001b[0;36m\u001b[0m\n\u001b[0;31m    payload =\u001b[0m\n\u001b[0m              ^\u001b[0m\n\u001b[0;31mSyntaxError\u001b[0m\u001b[0;31m:\u001b[0m invalid syntax\n"
     ]
    }
   ],
   "source": [
    "payload = "
   ]
  },
  {
   "cell_type": "code",
   "execution_count": 10,
   "metadata": {},
   "outputs": [
    {
     "ename": "NameError",
     "evalue": "name 'payload' is not defined",
     "output_type": "error",
     "traceback": [
      "\u001b[0;31m---------------------------------------------------------------------------\u001b[0m",
      "\u001b[0;31mNameError\u001b[0m                                 Traceback (most recent call last)",
      "\u001b[1;32m/Users/y.almutairi/Desktop/Workspace/InCoder/test.ipynb Cell 9\u001b[0m in \u001b[0;36m<cell line: 1>\u001b[0;34m()\u001b[0m\n\u001b[0;32m----> <a href='vscode-notebook-cell:/Users/y.almutairi/Desktop/Workspace/InCoder/test.ipynb#X11sZmlsZQ%3D%3D?line=0'>1</a>\u001b[0m r \u001b[39m=\u001b[39m requests\u001b[39m.\u001b[39mpost(\u001b[39m\"\u001b[39m\u001b[39mhttp://localhost:8000/collections/Descriptions index/query\u001b[39m\u001b[39m\"\u001b[39m, json\u001b[39m=\u001b[39mpayload)\n",
      "\u001b[0;31mNameError\u001b[0m: name 'payload' is not defined"
     ]
    }
   ],
   "source": [
    "r = requests.post(\"http://localhost:8000/collections/Descriptions index/query\", json=payload)"
   ]
  },
  {
   "cell_type": "code",
   "execution_count": 44,
   "metadata": {},
   "outputs": [
    {
     "data": {
      "text/plain": [
       "'{\"id\":\"0d86bdea-06f1-4a34-afd4-f0488724eb5c\",\"version\":\"v0\",\"source_schema\":[{\"Column\":\"name\",\"Type\":\"string\"},{\"Column\":\"images\",\"Type\":\"url\"},{\"Column\":\"alt\",\"Type\":\"natural_language\"},{\"Column\":\"description\",\"Type\":\"natural_language\"},{\"Column\":\"link\",\"Type\":\"url\"},{\"Column\":\"city\",\"Type\":\"categorical\"}],\"created_at\":1660128540.942438,\"name\":\"Descriptions index\",\"author\":\"Yasir\",\"desc\":\"this collection is used to search descrptions of products\",\"encoded_fields\":\"description\"}'"
      ]
     },
     "execution_count": 44,
     "metadata": {},
     "output_type": "execute_result"
    }
   ],
   "source": [
    "r.text"
   ]
  },
  {
   "cell_type": "code",
   "execution_count": 11,
   "metadata": {},
   "outputs": [
    {
     "name": "stdout",
     "output_type": "stream",
     "text": [
      "{'name': 'test'}\n"
     ]
    }
   ],
   "source": [
    "payload = dict(name= \"test\")\n",
    "print(payload)"
   ]
  },
  {
   "cell_type": "code",
   "execution_count": 12,
   "metadata": {},
   "outputs": [
    {
     "data": {
      "text/plain": [
       "<Response [405]>"
      ]
     },
     "execution_count": 12,
     "metadata": {},
     "output_type": "execute_result"
    }
   ],
   "source": [
    "requests.post(\"http://localhost:8000/collections/new\", \n",
    "json={\"name\": \"test\", \"vectors\": x})"
   ]
  },
  {
   "cell_type": "code",
   "execution_count": 13,
   "metadata": {},
   "outputs": [
    {
     "name": "stdout",
     "output_type": "stream",
     "text": [
      "\u001b[0;31mSignature:\u001b[0m \u001b[0mrequests\u001b[0m\u001b[0;34m.\u001b[0m\u001b[0mpost\u001b[0m\u001b[0;34m(\u001b[0m\u001b[0murl\u001b[0m\u001b[0;34m,\u001b[0m \u001b[0mdata\u001b[0m\u001b[0;34m=\u001b[0m\u001b[0;32mNone\u001b[0m\u001b[0;34m,\u001b[0m \u001b[0mjson\u001b[0m\u001b[0;34m=\u001b[0m\u001b[0;32mNone\u001b[0m\u001b[0;34m,\u001b[0m \u001b[0;34m**\u001b[0m\u001b[0mkwargs\u001b[0m\u001b[0;34m)\u001b[0m\u001b[0;34m\u001b[0m\u001b[0;34m\u001b[0m\u001b[0m\n",
      "\u001b[0;31mSource:\u001b[0m   \n",
      "\u001b[0;32mdef\u001b[0m \u001b[0mpost\u001b[0m\u001b[0;34m(\u001b[0m\u001b[0murl\u001b[0m\u001b[0;34m,\u001b[0m \u001b[0mdata\u001b[0m\u001b[0;34m=\u001b[0m\u001b[0;32mNone\u001b[0m\u001b[0;34m,\u001b[0m \u001b[0mjson\u001b[0m\u001b[0;34m=\u001b[0m\u001b[0;32mNone\u001b[0m\u001b[0;34m,\u001b[0m \u001b[0;34m**\u001b[0m\u001b[0mkwargs\u001b[0m\u001b[0;34m)\u001b[0m\u001b[0;34m:\u001b[0m\u001b[0;34m\u001b[0m\n",
      "\u001b[0;34m\u001b[0m    \u001b[0;34mr\"\"\"Sends a POST request.\u001b[0m\n",
      "\u001b[0;34m\u001b[0m\n",
      "\u001b[0;34m    :param url: URL for the new :class:`Request` object.\u001b[0m\n",
      "\u001b[0;34m    :param data: (optional) Dictionary, list of tuples, bytes, or file-like\u001b[0m\n",
      "\u001b[0;34m        object to send in the body of the :class:`Request`.\u001b[0m\n",
      "\u001b[0;34m    :param json: (optional) json data to send in the body of the :class:`Request`.\u001b[0m\n",
      "\u001b[0;34m    :param \\*\\*kwargs: Optional arguments that ``request`` takes.\u001b[0m\n",
      "\u001b[0;34m    :return: :class:`Response <Response>` object\u001b[0m\n",
      "\u001b[0;34m    :rtype: requests.Response\u001b[0m\n",
      "\u001b[0;34m    \"\"\"\u001b[0m\u001b[0;34m\u001b[0m\n",
      "\u001b[0;34m\u001b[0m\u001b[0;34m\u001b[0m\n",
      "\u001b[0;34m\u001b[0m    \u001b[0;32mreturn\u001b[0m \u001b[0mrequest\u001b[0m\u001b[0;34m(\u001b[0m\u001b[0;34m\"post\"\u001b[0m\u001b[0;34m,\u001b[0m \u001b[0murl\u001b[0m\u001b[0;34m,\u001b[0m \u001b[0mdata\u001b[0m\u001b[0;34m=\u001b[0m\u001b[0mdata\u001b[0m\u001b[0;34m,\u001b[0m \u001b[0mjson\u001b[0m\u001b[0;34m=\u001b[0m\u001b[0mjson\u001b[0m\u001b[0;34m,\u001b[0m \u001b[0;34m**\u001b[0m\u001b[0mkwargs\u001b[0m\u001b[0;34m)\u001b[0m\u001b[0;34m\u001b[0m\u001b[0;34m\u001b[0m\u001b[0m\n",
      "\u001b[0;31mFile:\u001b[0m      ~/Desktop/Workspace/InCoder/venv/lib/python3.9/site-packages/requests/api.py\n",
      "\u001b[0;31mType:\u001b[0m      function\n"
     ]
    }
   ],
   "source": [
    "requests.post??"
   ]
  },
  {
   "cell_type": "code",
   "execution_count": null,
   "metadata": {},
   "outputs": [],
   "source": [
    "requests.post??"
   ]
  },
  {
   "cell_type": "code",
   "execution_count": null,
   "metadata": {},
   "outputs": [],
   "source": [
    "from abc import ABCMeta\n",
    "\n",
    "class AbstractClass(metaclass=ABCMeta):\n",
    "    @classmethod\n",
    "    def __subclasshook__(cls, other):\n",
    "        print(\"subclass hook:\", other)\n",
    "        hookmethod = getattr(other, 'hookmethod', None)\n",
    "        return callable(hookmethod)\n",
    "\n",
    "class SubClass:\n",
    "    def hookmethod(self):\n",
    "        pass\n"
   ]
  },
  {
   "cell_type": "code",
   "execution_count": null,
   "metadata": {},
   "outputs": [],
   "source": [
    "issubclass(SubClass, AbstractClass)"
   ]
  },
  {
   "cell_type": "code",
   "execution_count": null,
   "metadata": {},
   "outputs": [],
   "source": [
    "from woodwork.logical_types import Unknown"
   ]
  },
  {
   "cell_type": "code",
   "execution_count": 1,
   "metadata": {},
   "outputs": [],
   "source": [
    "from incoder.models import EncoderVersion"
   ]
  },
  {
   "cell_type": "code",
   "execution_count": 41,
   "metadata": {},
   "outputs": [],
   "source": [
    "version = EncoderVersion()"
   ]
  },
  {
   "cell_type": "code",
   "execution_count": 6,
   "metadata": {},
   "outputs": [],
   "source": [
    "version.upgrade()"
   ]
  },
  {
   "cell_type": "code",
   "execution_count": 44,
   "metadata": {},
   "outputs": [
    {
     "data": {
      "text/plain": [
       "'v0'"
      ]
     },
     "execution_count": 44,
     "metadata": {},
     "output_type": "execute_result"
    }
   ],
   "source": [
    "str(version)"
   ]
  },
  {
   "cell_type": "code",
   "execution_count": 1,
   "metadata": {},
   "outputs": [],
   "source": [
    "import numpy as np\n",
    "import pandas as pd"
   ]
  },
  {
   "cell_type": "code",
   "execution_count": 2,
   "metadata": {},
   "outputs": [],
   "source": [
    "vectors = np.load(\"./data/vectors.npy\")"
   ]
  },
  {
   "cell_type": "code",
   "execution_count": 3,
   "metadata": {},
   "outputs": [],
   "source": [
    "vector_size = vectors.shape[1]"
   ]
  },
  {
   "cell_type": "code",
   "execution_count": 4,
   "metadata": {},
   "outputs": [],
   "source": [
    "data = pd.read_json(\"./data/startups.json\", lines=True)"
   ]
  },
  {
   "cell_type": "code",
   "execution_count": 5,
   "metadata": {},
   "outputs": [
    {
     "data": {
      "text/plain": [
       "Index(['name', 'images', 'alt', 'description', 'link', 'city'], dtype='object')"
      ]
     },
     "execution_count": 5,
     "metadata": {},
     "output_type": "execute_result"
    }
   ],
   "source": [
    "data.columns"
   ]
  },
  {
   "cell_type": "code",
   "execution_count": 13,
   "metadata": {},
   "outputs": [],
   "source": [
    "reco = data[:100].to_dict(orient='records')"
   ]
  },
  {
   "cell_type": "code",
   "execution_count": 7,
   "metadata": {},
   "outputs": [
    {
     "data": {
      "text/plain": [
       "100"
      ]
     },
     "execution_count": 7,
     "metadata": {},
     "output_type": "execute_result"
    }
   ],
   "source": [
    "len(reco)\n"
   ]
  },
  {
   "cell_type": "code",
   "execution_count": 8,
   "metadata": {},
   "outputs": [
    {
     "data": {
      "text/plain": [
       "[{'name': 'SaferCodes',\n",
       "  'images': 'https://safer.codes/img/brand/logo-icon.png',\n",
       "  'alt': 'SaferCodes Logo QR codes generator system forms for COVID-19',\n",
       "  'description': 'QR codes systems for COVID-19.\\nSimple tools for bars, restaurants, offices, and other small proximity businesses.',\n",
       "  'link': 'https://safer.codes',\n",
       "  'city': 'Chicago'},\n",
       " {'name': 'Human Practice',\n",
       "  'images': 'https://d1qb2nb5cznatu.cloudfront.net/startups/i/373036-94d1e190f12f2c919c3566ecaecbda68-thumb_jpg.jpg?buster=1396498835',\n",
       "  'alt': 'Human Practice -  health care information technology',\n",
       "  'description': 'Point-of-care word of mouth\\nPreferral is a mobile platform that channels physicians’ interest in networking with their peers to build referrals within a hospital system.\\nHospitals are in a race to employ physicians, even though they lose billions each year ($40B in 2014) on employment. Why ...',\n",
       "  'link': 'http://humanpractice.com',\n",
       "  'city': 'Chicago'},\n",
       " {'name': 'StyleSeek',\n",
       "  'images': 'https://d1qb2nb5cznatu.cloudfront.net/startups/i/3747-bb0338d641617b54f5234a1d3bfc6fd0-thumb_jpg.jpg?buster=1329158692',\n",
       "  'alt': 'StyleSeek -  e-commerce fashion mass customization online shopping',\n",
       "  'description': 'Personalized e-commerce for lifestyle products\\nStyleSeek is a personalized e-commerce site for lifestyle products.\\nIt works across the style spectrum by enabling users (both men and women) to create and refine their unique StyleDNA.\\nStyleSeek also promotes new products via its email newsletter, 100% personalized ...',\n",
       "  'link': 'http://styleseek.com',\n",
       "  'city': 'Chicago'},\n",
       " {'name': 'Scout',\n",
       "  'images': 'https://d1qb2nb5cznatu.cloudfront.net/startups/i/190790-dbe27fe8cda0614d644431f853b64e8f-thumb_jpg.jpg?buster=1389652078',\n",
       "  'alt': 'Scout -  security consumer electronics internet of things',\n",
       "  'description': \"Hassle-free Home Security\\nScout is a self-installed, wireless home security system. We've created a more open, affordable and modern system than what is available on the market today. With month-to-month contracts and portable devices, Scout is a renter-friendly solution for the other ...\",\n",
       "  'link': 'http://www.scoutalarm.com',\n",
       "  'city': 'Chicago'},\n",
       " {'name': 'Invitation codes',\n",
       "  'images': 'https://invitation.codes/img/inv-brand-fb3.png',\n",
       "  'alt': 'Invitation App - Share referral codes community ',\n",
       "  'description': 'The referral community\\nInvitation App is a social network where people post their referral codes and collect rewards on autopilot.',\n",
       "  'link': 'https://invitation.codes',\n",
       "  'city': 'Chicago'},\n",
       " {'name': 'Hyde Park Angels',\n",
       "  'images': 'https://d1qb2nb5cznatu.cloudfront.net/startups/i/61114-35cd9d9689b70b4dc1d0b3c5f11c26e7-thumb_jpg.jpg?buster=1427395222',\n",
       "  'alt': 'Hyde Park Angels - ',\n",
       "  'description': 'Hyde Park Angels is the largest and most active angel group in the Midwest. With a membership of over 100 successful entrepreneurs, executives, and venture capitalists, the organization prides itself on providing critical strategic expertise to entrepreneurs and ...',\n",
       "  'link': 'http://hydeparkangels.com',\n",
       "  'city': 'Chicago'},\n",
       " {'name': 'GiveForward',\n",
       "  'images': 'https://d1qb2nb5cznatu.cloudfront.net/startups/i/1374-e472ccec267bef9432a459784455c133-thumb_jpg.jpg?buster=1397666635',\n",
       "  'alt': 'GiveForward -  health care startups crowdfunding',\n",
       "  'description': \"Crowdfunding for medical and life events\\nGiveForward lets anyone to create a free fundraising page for a friend or loved one's uncovered medical bills, memorial fund, adoptions or any other life events in five minutes or less. Millions of families have used GiveForward to raise more than $165M to let ...\",\n",
       "  'link': 'http://giveforward.com',\n",
       "  'city': 'Chicago'},\n",
       " {'name': 'MentorMob',\n",
       "  'images': 'https://d1qb2nb5cznatu.cloudfront.net/startups/i/19374-3b63fcf38efde624dd79c5cbd96161db-thumb_jpg.jpg?buster=1315734490',\n",
       "  'alt': 'MentorMob -  digital media education ventures for good crowdsourcing',\n",
       "  'description': 'Google of Learning, indexed by experts\\nProblem: Google doesn\\'t index for learning. Nearly 1 billion Google searches are done for \"how to\" learn various topics every month, from photography to entrepreneurship, forcing learners to waste their time sifting through the millions of results.\\nMentorMob is ...',\n",
       "  'link': 'http://www.mentormob.com',\n",
       "  'city': 'Chicago'},\n",
       " {'name': 'The Boeing Company',\n",
       "  'images': 'https://d1qb2nb5cznatu.cloudfront.net/startups/i/49394-df6be7a1eca80e8e73cc6699fee4f772-thumb_jpg.jpg?buster=1406172049',\n",
       "  'alt': 'The Boeing Company -  manufacturing transportation',\n",
       "  'description': '',\n",
       "  'link': 'http://www.boeing.com',\n",
       "  'city': 'Chicago'},\n",
       " {'name': 'NowBoarding ✈️',\n",
       "  'images': 'https://static.above.flights/img/lowcost/envelope_blue.png',\n",
       "  'alt': 'Lowcost Email cheap flights alerts',\n",
       "  'description': 'Invite-only mailing list.\\n\\nWe search the best weekend and long-haul flight deals\\nso you can book before everyone else.',\n",
       "  'link': 'https://nowboarding.club/',\n",
       "  'city': 'Chicago'},\n",
       " {'name': 'Rocketmiles',\n",
       "  'images': 'https://d1qb2nb5cznatu.cloudfront.net/startups/i/158571-e53ddffe9fb3ed5e57080db7134117d0-thumb_jpg.jpg?buster=1361371304',\n",
       "  'alt': 'Rocketmiles -  e-commerce online travel loyalty programs hotels',\n",
       "  'description': \"Fueling more vacations\\nWe enable our customers to travel more, travel better and travel further. 20M+ consumers stock away miles & points to satisfy their wanderlust.\\nFlying around or using credit cards are the only good ways to fill the stockpile today. We've built the third way. Customers ...\",\n",
       "  'link': 'http://www.Rocketmiles.com',\n",
       "  'city': 'Chicago'},\n",
       " {'name': 'EVENTup',\n",
       "  'images': 'https://d1qb2nb5cznatu.cloudfront.net/startups/i/23238-2b626f5dac2bd64425f502de100b652b-thumb_jpg.jpg?buster=1415649722',\n",
       "  'alt': 'EVENTup -  marketplaces bridging online and offline events online scheduling',\n",
       "  'description': 'Largest online marketplace for Event Spaces. \\nEventup is a marketplace that allows consumers to find both commercial venues and unique residential properties and book them for their event. We make the venue selection and booking process easier and provide access to experiences that were previously unattainable ...',\n",
       "  'link': 'http://EVENTup.com',\n",
       "  'city': 'Chicago'},\n",
       " {'name': 'Trunk Club',\n",
       "  'images': 'https://d1qb2nb5cznatu.cloudfront.net/startups/i/34734-030f38d5fbe71b30f8dff2516009aeef-thumb_jpg.jpg?buster=1331831837',\n",
       "  'alt': 'Trunk Club -  retail fashion personalization',\n",
       "  'description': \"Hand-selected outfits shipped to your door\\nTraditional retail or e-commerce doesn't work well for most guys, and we’ve built our business around the idea that there’s a better way. We send guys a trunk of awesome clothes personalized for them by a real person on our team - each guy keeps what he likes and ...\",\n",
       "  'link': 'http://www.trunkclub.com/',\n",
       "  'city': 'Chicago'},\n",
       " {'name': 'Stylisted',\n",
       "  'images': 'https://d1qb2nb5cznatu.cloudfront.net/startups/i/198597-dc1e80e9fb5c325414a50872df92105a-thumb_jpg.jpg?buster=1430243061',\n",
       "  'alt': 'Stylisted -  location based services marketplaces beauty',\n",
       "  'description': 'Premier marketplace for in-home beauty service delivery\\nStylisted is a website and mobile application that allows women to book in-home hair styling and makeup appointments from a network of vetted freelance beauty professionals.\\nWomen want the help of skilled makeup artists and hairstylists for special event preparation, ...',\n",
       "  'link': 'http://www.Stylisted.com',\n",
       "  'city': 'Chicago'},\n",
       " {'name': 'CancerIQ',\n",
       "  'images': 'https://d1qb2nb5cznatu.cloudfront.net/startups/i/183714-444e9d7ff2951c9713781f56d79f31e7-thumb_jpg.jpg?buster=1378406599',\n",
       "  'alt': 'CancerIQ -  health care information technology big data ventures for good personal health',\n",
       "  'description': 'Predictive analytics to eliminate cancer (Rock Health)\\nOur team has modeled proven cancer genetics workflows at top academic centers, and translated them into a suite of digital health tools. Our cloud-based cancer risk clinic “in a box”, helps providers:\\n- Predict cancer by automatically processing lifestyle, clinical, ...',\n",
       "  'link': 'http://www.canceriq.com',\n",
       "  'city': 'Chicago'},\n",
       " {'name': 'Kiwi Solar',\n",
       "  'images': 'https://d1qb2nb5cznatu.cloudfront.net/startups/i/1029-4546f6ff9b57bccaa98ece907bdf6eb0-thumb_jpg.jpg?buster=1351632225',\n",
       "  'alt': 'Kiwi Solar -  clean technology clean energy solar residential solar',\n",
       "  'description': 'Simple, high-value solar ownership\\nKiwi is bringing homeowners the simplest, most valuable way to own solar.\\nThe JuiceBox, Kiwi’s first product, brings together the best equipment, local installers, financing and software to make solar easy for homeowners to understand and buy.\\nPVPower, now Kiwi, ...',\n",
       "  'link': 'http://www.ownkiwi.com',\n",
       "  'city': 'Chicago'},\n",
       " {'name': 'YCharts',\n",
       "  'images': 'https://d1qb2nb5cznatu.cloudfront.net/startups/i/32997-13456632ed1acc1a9bbbd3a170035378-thumb_jpg.jpg?buster=1352834334',\n",
       "  'alt': 'YCharts -  financial services big data visualization investment management',\n",
       "  'description': 'The Financial Terminal of The Web.\\nYCharts is a financial software company that was founded in 2009 and is backed by Morningstar. YCharts provides the analytic power of a financial terminal (such as Bloomberg, FactSet, CapIQ), but with the ease of use and accessibility of a modern website. Investment ...',\n",
       "  'link': 'https://ycharts.com',\n",
       "  'city': 'Chicago'},\n",
       " {'name': 'Obama for America',\n",
       "  'images': 'https://d1qb2nb5cznatu.cloudfront.net/startups/i/75054-5d5e8c07899639dbc1b49faf8de7a5ec-thumb_jpg.jpg?buster=1352131410',\n",
       "  'alt': 'Obama for America -  politics',\n",
       "  'description': '',\n",
       "  'link': 'http://barackobama.com',\n",
       "  'city': 'Chicago'},\n",
       " {'name': 'Groupon',\n",
       "  'images': 'https://d1qb2nb5cznatu.cloudfront.net/startups/i/32211-2ebb323a7147718469ae5730c7dfb615-thumb_jpg.jpg?buster=1326842463',\n",
       "  'alt': 'Groupon -  retail deals discounts travel',\n",
       "  'description': 'Daily Deals. Delivered.\\nGroupon features a daily deal on the best stuff to do, see, eat, and buy in 45 countries, and soon beyond (read: Space). We have about 10,000 employees working across our Chicago headquarters, a growing office in Seattle and Palo Alto, CA, local markets throughout ...',\n",
       "  'link': 'https://www.groupon.com',\n",
       "  'city': 'Chicago'},\n",
       " {'name': 'Sidewalk',\n",
       "  'images': 'https://d1qb2nb5cznatu.cloudfront.net/startups/i/12882-50004250482c969e2c1c63b7228c708f-thumb_jpg.jpg?buster=1406856296',\n",
       "  'alt': 'Sidewalk -  lead generation big data sales automation small and medium businesses',\n",
       "  'description': \"Local intelligence layer\\nSidewalk provides business intelligence for sales and marketing teams that enables them to close more deals faster with their dream SMB clients.\\nSidewalk scores SMBs from 0-100 to determine their social rank and interest in your product so you don't have to. ...\",\n",
       "  'link': 'http://www.getsidewalk.com',\n",
       "  'city': 'Chicago'},\n",
       " {'name': 'Food Genius',\n",
       "  'images': 'https://d1qb2nb5cznatu.cloudfront.net/startups/i/23841-a051e2f9e346250aea64df756341d02a-thumb_jpg.jpg?buster=1315729457',\n",
       "  'alt': 'Food Genius -  food and beverages big data restaurants data mining',\n",
       "  'description': \"Feeding the foodservice Industry smarter data and analytics.\\nWe're feeding the Foodservice Industry smarter data and analytics.\\nFood Genius is a leading foodservice data provider specializing in gathering, preparing, and serving granular foodservice menu data and analytics. Food Genius supports foodservice manufacturers, ...\",\n",
       "  'link': 'http://getfoodgenius.com',\n",
       "  'city': 'Chicago'},\n",
       " {'name': 'Caterva',\n",
       "  'images': 'https://d1qb2nb5cznatu.cloudfront.net/startups/i/43240-b048dae5aced86e90596bd55f8d95335-thumb_jpg.jpg?buster=1339095691',\n",
       "  'alt': 'Caterva -  digital media social media machine learning big data',\n",
       "  'description': 'Engagement Automation\\nCaterva is pioneering Engagement Automation solutions that utilize advances in big data, machine Learning, and social analytics. Our automated solutions enable websites to drive more engagement without requiring deep technical and analytical expertise or knowledge ...',\n",
       "  'link': 'http://caterva.com',\n",
       "  'city': 'Chicago'},\n",
       " {'name': 'TempoIQ',\n",
       "  'images': 'https://d1qb2nb5cznatu.cloudfront.net/startups/i/79393-d67a8527c6dc6565999423ac06a92d48-thumb_jpg.jpg?buster=1334628110',\n",
       "  'alt': 'TempoIQ -  analytics big data databases internet of things',\n",
       "  'description': 'Sensor Data Analytics\\nTempoDB is the time series database service. Available as a hosted or deployed solution, TempoDB makes it possible to store and analyze the massive streams of time series data generated by connected devices and sensors that break traditional databases.',\n",
       "  'link': 'http://tempoiq.com',\n",
       "  'city': 'Chicago'},\n",
       " {'name': 'Konekt',\n",
       "  'images': 'https://d1qb2nb5cznatu.cloudfront.net/startups/i/317209-83b3feddd854007fb54abeb421fcf58b-thumb_jpg.jpg?buster=1410898855',\n",
       "  'alt': 'Konekt -  telecommunications developer tools internet of things cloud infrastructure',\n",
       "  'description': 'Build connected devices that work everywhere\\nKonekt makes it incredibly easy for anyone to add cellular connectivity to their hardware devices. \\xa0Think of it as Heroku for Cellular Connected Hardware.\\nKonekt allows makers, OEMs, and systems integrators of all sizes and levels of sophistication to build devices ...',\n",
       "  'link': 'http://www.konektdata.com',\n",
       "  'city': 'Chicago'},\n",
       " {'name': 'MobileX Labs',\n",
       "  'images': 'https://d1qb2nb5cznatu.cloudfront.net/startups/i/103128-93fea14f97a464d21c7b60d9bf702a32-thumb_jpg.jpg?buster=1393466323',\n",
       "  'alt': 'MobileX Labs -  mobile SaaS mobile games gamification',\n",
       "  'description': 'Apps, Games, and Tools for the Mobile Generation\\nMobileX Labs (MXL) is an uber fast growing app solutions company based in Chicago, IL. We currently operate under 3 company divisions.\\nNativ App Builder\\nWebsites are great, but Apps are better. Apps are the best way to get tailored content at your fingertips. ...',\n",
       "  'link': 'http://www.MobileXLabs.com',\n",
       "  'city': 'Chicago'},\n",
       " {'name': 'Razorfish',\n",
       "  'images': 'https://d1qb2nb5cznatu.cloudfront.net/startups/i/33524-bdfcb9fb20de0dcc3ae67ef5672e6389-thumb_jpg.jpg?buster=1326843723',\n",
       "  'alt': 'Razorfish -  consulting',\n",
       "  'description': '',\n",
       "  'link': 'http://www.razorfish.com',\n",
       "  'city': 'Chicago'},\n",
       " {'name': 'Classkick',\n",
       "  'images': 'https://d1qb2nb5cznatu.cloudfront.net/startups/i/511338-4b5dc4a90922f53e0e816ef5c67c50c5-thumb_jpg.jpg?buster=1413389520',\n",
       "  'alt': 'Classkick -  k 12 education Higher Education',\n",
       "  'description': 'Students Learn Together\\nNumbers\\n- Launched fall 2014\\n- 150K downloads\\n- Average 30% wk/wk growth\\n- 50 states / 70 countries\\n- 45K questions answered/week\\n- Engine of growth: 65% of signups are word-of-mouth, 100% are organic, $0 spent marketing\\nCreated by teachers and engineers, Classkick ...',\n",
       "  'link': 'http://getclasskick.com',\n",
       "  'city': 'Chicago'},\n",
       " {'name': 'Retrofit',\n",
       "  'images': 'https://d1qb2nb5cznatu.cloudfront.net/startups/i/31493-3f56c1c186e7c79d7bf75823efa49147-thumb_jpg.jpg?buster=1325984024',\n",
       "  'alt': 'Retrofit -  health care health care information technology personal health health and wellness',\n",
       "  'description': \"Expert-led, data-driven weight loss.\\nRetrofit is the data-driven weight loss company. Created by the nation’s leading obesity experts and using groundbreaking internet technology, we intend to deliver the industry’s best outcomes. Obesity is America's #1 healthcare crisis. Because diets do not work, ...\",\n",
       "  'link': 'http://www.retrofitme.com',\n",
       "  'city': 'Chicago'},\n",
       " {'name': 'ParkWhiz',\n",
       "  'images': 'https://d1qb2nb5cznatu.cloudfront.net/startups/i/25241-143f40b233410594fc8778d1d0f7ea09-thumb_jpg.jpg?buster=1380292114',\n",
       "  'alt': 'ParkWhiz -  consumer internet transportation parking geospatial',\n",
       "  'description': 'Click here. Park anywhere.\\nParkWhiz simplifies the parking experience by facilitating the advance purchase of parking for any driving occasion. Available on any device -- PC, tablet, or smartphone -- ParkWhiz features parking options and deals at over 1,500 locations nationwide, providing ...',\n",
       "  'link': 'http://www.parkwhiz.com',\n",
       "  'city': 'Chicago'},\n",
       " {'name': 'Blinkfire Analytics',\n",
       "  'images': 'https://d1qb2nb5cznatu.cloudfront.net/startups/i/214812-ce2072ca2b3c04e8f6962c846587e124-thumb_jpg.jpg?buster=1370013644',\n",
       "  'alt': 'Blinkfire Analytics -  social media analytics sports visual search',\n",
       "  'description': 'Using Computer Vision to generate more relevant Social Media Analytics\\nTen years ago, sports fans got sports news and information exclusively from the media or television. In 2014, fans get sports news and information directly from the teams and players. As a result, sports franchises are now becoming media companies themselves, ...',\n",
       "  'link': 'http://stats.blinkfire.com',\n",
       "  'city': 'Chicago'},\n",
       " {'name': 'OpenAirplane',\n",
       "  'images': 'https://d1qb2nb5cznatu.cloudfront.net/startups/i/81504-26cbe366435bbe9c9e693353c70ac17f-thumb_jpg.jpg?buster=1333811187',\n",
       "  'alt': 'OpenAirplane -  marketplaces travel collaborative consumption sharing economy',\n",
       "  'description': \"Making renting an airplane as easy as renting a car.\\nWe're making a pilot certificate more useful. OpenAirplane makes it easy for Pilots to find, book, fly, and pay for aircraft rental online or with a mobile device. We're helping Operators get better utilization of their fleets, and Pilots fly more.\\nWith rental ...\",\n",
       "  'link': 'http://www.OpenAirplane.com',\n",
       "  'city': 'Chicago'},\n",
       " {'name': 'Belly',\n",
       "  'images': 'https://d1qb2nb5cznatu.cloudfront.net/startups/i/91310-513886861d9e7245077643a6dd5ddc79-thumb_jpg.jpg?buster=1347887849',\n",
       "  'alt': 'Belly -  retail advertising small and medium businesses retail technology',\n",
       "  'description': \"Belly is a universal loyalty program that customers can take with them anywhere! We're spreading the love to your favorite places, enabling you to earn rewards wherever you go. Whether it's your morning cup of Joe or late-night beard trim and hair cut, Belly is ...\",\n",
       "  'link': 'http://www.bellycard.com',\n",
       "  'city': 'Chicago'},\n",
       " {'name': 'SpotHero',\n",
       "  'images': 'https://d1qb2nb5cznatu.cloudfront.net/startups/i/117264-14b4adb5900009839bb6bf622e4d759b-thumb_jpg.jpg?buster=1345852493',\n",
       "  'alt': 'SpotHero -  mobile marketplaces transportation parking',\n",
       "  'description': 'On-Demand Parking App\\n SpotHero is an on-demand app for parking that allows drivers to reserve their perfect spot right from the web and their phones. We partner with garages, lots and valets to get drivers discounted parking spots all across the US. We make life easier for the daily ...',\n",
       "  'link': 'http://spothero.com',\n",
       "  'city': 'Chicago'},\n",
       " {'name': 'A.T. Kearney',\n",
       "  'images': 'https://d1qb2nb5cznatu.cloudfront.net/startups/i/44872-59aa32d71d1e8b79d03ac4638145b0bf-thumb_jpg.jpg?buster=1370253046',\n",
       "  'alt': 'A.T. Kearney -  consulting',\n",
       "  'description': \"A.T. Kearney is a leading global management consulting firm with offices in more than 40 countries. Since 1926, we have been trusted advisors to the world's foremost organizations. A.T. Kearney is a partner-owned firm, committed to helping clients achieve immediate ...\",\n",
       "  'link': 'http://www.atkearney.com',\n",
       "  'city': 'Chicago'},\n",
       " {'name': 'Fooda',\n",
       "  'images': 'https://d1qb2nb5cznatu.cloudfront.net/startups/i/45441-2b7cf3e1f05c9866825a23212866ea77-thumb_jpg.jpg?buster=1423330018',\n",
       "  'alt': 'Fooda -  e-commerce B2B food and beverages mobile commerce',\n",
       "  'description': 'Food tech platform connecting restaurants to people at work\\nFooda is food technology platform that connects restaurants to people while at work. \\xa0Companies and individuals join Fooda to get food brought right to their office everyday.',\n",
       "  'link': 'http://www.fooda.com',\n",
       "  'city': 'Chicago'},\n",
       " {'name': 'Narrative Science',\n",
       "  'images': 'https://d1qb2nb5cznatu.cloudfront.net/startups/i/69188-a45d33024bac7def9a87b5e8e845c8b9-thumb_jpg.jpg?buster=1362500555',\n",
       "  'alt': 'Narrative Science -  financial services big data big data analytics government innovation',\n",
       "  'description': 'The leader in automated narrative generation for the enterprise.\\nPowered by artificial intelligence, Narrative Science Quill™ is an advanced natural language generation platform for the enterprise that creates data-driven communications at machine scale. It analyzes data from disparate sources, understands relationships hidden ...',\n",
       "  'link': 'http://www.narrativescience.com',\n",
       "  'city': 'Chicago'},\n",
       " {'name': 'Shortlist',\n",
       "  'images': 'https://d1qb2nb5cznatu.cloudfront.net/startups/i/22771-7a1527e85b7297a6e3060db8711bbad3-thumb_jpg.jpg?buster=1346643438',\n",
       "  'alt': 'Shortlist -  lead generation brand marketing professional networking event management',\n",
       "  'description': 'LinkedIn for your event life\\nShortlist connects you with the people you don\\'t know—but should—at conferences and trade shows.\\nOur mobile-social platform \"accelerates serendipity\" to maximize everyone\\'s time and opportunity.\\nBrands pay us to sponsor the app for their target events. Exhibitors ...',\n",
       "  'link': 'http://getshortlist.com',\n",
       "  'city': 'Chicago'},\n",
       " {'name': 'Packback',\n",
       "  'images': 'https://d1qb2nb5cznatu.cloudfront.net/startups/i/108080-86743f0e736dc5660a9530c7ac92267d-thumb_jpg.jpg?buster=1425322096',\n",
       "  'alt': 'Packback -  digital media education big data university students',\n",
       "  'description': 'Pay-per-use etextbooks for $5 or less\\nPackback allows college students to \"pay per use\" for their digital textbooks by renting for $3-$5 per day, while enabling publishers to recoup revenue lost to the secondary used book market. Any money students spend on daily rentals can be directly converted towards ...',\n",
       "  'link': 'http://www.packbackbooks.com',\n",
       "  'city': 'Chicago'},\n",
       " {'name': 'Shiftgig',\n",
       "  'images': 'https://d1qb2nb5cznatu.cloudfront.net/startups/i/24976-cd7aa488294e9ccb371c2066aa115925-thumb_jpg.jpg?buster=1316793439',\n",
       "  'alt': 'Shiftgig -  social media hospitality restaurants recruiting',\n",
       "  'description': 'LinkedIn for the service industry\\nShiftgig is the service industry community, a platform that allows employers and candidates to show needs, skills, and availability to connect more efficiently. Launched in early 2012, over 100,000 service industry people 4,000 businesses have connected with ...',\n",
       "  'link': 'http://www.shiftgig.com',\n",
       "  'city': 'Chicago'},\n",
       " {'name': 'Boomerang',\n",
       "  'images': 'https://d1qb2nb5cznatu.cloudfront.net/startups/i/152531-99aec061557f9324585c8332eb21b40f-thumb_jpg.jpg?buster=1357230901',\n",
       "  'alt': 'Boomerang -  retail direct marketing social commerce incentives',\n",
       "  'description': 'Advertising meets rewards\\nBoomerang is the first platform that lets websites and mobile apps engage their audiences with free, real-world rewards from top brands.\\nPartners use our technology to offer free $5 - $10 shopping credits at brands like Target, Reebok, and Newegg (similar to ...',\n",
       "  'link': 'http://rang.com/business',\n",
       "  'city': 'Chicago'},\n",
       " {'name': 'IntroFly',\n",
       "  'images': 'https://d1qb2nb5cznatu.cloudfront.net/startups/i/1538-990e417eb5f1440ce159591fe22ae584-thumb_jpg.jpg?buster=1315770515',\n",
       "  'alt': 'IntroFly -  consumer internet social media internet recruiting',\n",
       "  'description': \"beyondcredentials.com and introfly.com are now owned by NorthBridge Staffing Inc.\\nIntroFly is a social discovery and CRM for your career.\\nMark Suster says you should have 50 coffee meetings to land a good job...we're the tool that helps you do just that.\\nBring all your social networks into one place, then mine through the API data smarter, ...\",\n",
       "  'link': 'http://introfly.com (since closed)',\n",
       "  'city': 'Chicago'},\n",
       " {'name': 'Raise',\n",
       "  'images': 'https://d1qb2nb5cznatu.cloudfront.net/startups/i/161709-06657cf37c0d03641a9c94c4ae5555d3-thumb_jpg.jpg?buster=1359834868',\n",
       "  'alt': 'Raise -  enterprise software loyalty programs gift card',\n",
       "  'description': 'Changing the World of Gift Cards - Incentive Marketing, Brand Enterprise Software & Beyond\\nRaise is a C2C gift card marketplace where members can sell gift cards for cash or save on gift cards to their favorite stores. Raise helps buyers increase their purchase power and allows sellers to raise their earning potential. www.raise.com',\n",
       "  'link': 'http://www.raise.com',\n",
       "  'city': 'Chicago'},\n",
       " {'name': 'Pear (formerly Apparel Media Group)',\n",
       "  'images': 'https://d1qb2nb5cznatu.cloudfront.net/startups/i/213-79fdbe94c56146287f6d294004f85623-thumb_jpg.jpg?buster=1389048919',\n",
       "  'alt': 'Pear (formerly Apparel Media Group) -  advertising local advertising brand marketing sponsorship',\n",
       "  'description': 'Connects brands & businesses with millions of consumers seeking sponsorship support.\\nPear is a leader in brand engagement advertising. Our platform delivers authentic, meaningful relationships with target consumers that brands can leverage to drive digital engagement metrics vital to fan acquisition, video distribution, content creation, CRM, and ...',\n",
       "  'link': 'http://www.pearup.com',\n",
       "  'city': 'Chicago'},\n",
       " {'name': 'WeDeliver',\n",
       "  'images': 'https://d1qb2nb5cznatu.cloudfront.net/startups/i/157542-b726c89169c2a729deed8547aa4ca4a2-thumb_jpg.jpg?buster=1369262269',\n",
       "  'alt': 'WeDeliver -  e-commerce small and medium businesses b2b express delivery logistics',\n",
       "  'description': 'Same Day Delivery for Local Businesses\\nWeDeliver connects local businesses (small and medium sized) to their customers by providing same-day delivery of products and goods.\\nWe believe that our same-day on demand delivery technology will help local retailers gain a competitive edge against big box ...',\n",
       "  'link': 'http://www.wedeliver.us',\n",
       "  'city': 'Chicago'},\n",
       " {'name': 'Cloudbot',\n",
       "  'images': 'https://d1qb2nb5cznatu.cloudfront.net/startups/i/1873-a83644b8a2d18d4b91742faf5c4eab7b-thumb_jpg.jpg?buster=1315741829',\n",
       "  'alt': 'Cloudbot -  mobile messaging social media platforms development platforms',\n",
       "  'description': 'Your apps. Simplified.\\nCloudbot is a mobile and web application that is an efficient solution to having your personal data and relationships scattered around on different services.\\nPeople rely on different applications to access the little bits of their lives saved in the cloud. ...',\n",
       "  'link': 'http://cloudbot.com',\n",
       "  'city': 'Chicago'},\n",
       " {'name': 'Special Learning, Inc.',\n",
       "  'images': 'https://d1qb2nb5cznatu.cloudfront.net/startups/i/429659-168df0422c4b47cbba40d5afcee121d7-thumb_jpg.jpg?buster=1424279089',\n",
       "  'alt': 'Special Learning, Inc.  -  health care information technology k 12 education healthcare services behavioral therapy, aba therapy, autism, psychology',\n",
       "  'description': 'Using technology to bring quality Autism and ABA intervention to the world\\nFact 1: There are over 70 million people in the world with Autism; less than 10% have access to quality training, education and intervention.\\nFact 2: Autism is a multi-billion dollar industry.\\nFact 3:\\xa0Applied Behavior Analysis (ABA) is the only science-based ...',\n",
       "  'link': 'http://www.special-learning.com',\n",
       "  'city': 'Chicago'},\n",
       " {'name': 'learnmetrics',\n",
       "  'images': 'https://d1qb2nb5cznatu.cloudfront.net/startups/i/147045-4c00771b88c789f23a7f4ef0f98b9470-thumb_jpg.jpg?buster=1411596543',\n",
       "  'alt': 'learnmetrics -  education analytics big data k 12 education',\n",
       "  'description': 'SMART data for education\\nLearnmetrics brings the tools and frameworks from business intelligence to the world of education.\\nWith Learnmetrics, our users can\\n• Get a 360° view of data to help inform decisions and set goals\\n• Decrease focus on administrative tasks while increasing ...',\n",
       "  'link': 'http://www.learnmetrics.com',\n",
       "  'city': 'Chicago'},\n",
       " {'name': 'BucketFeet',\n",
       "  'images': 'https://d1qb2nb5cznatu.cloudfront.net/startups/i/19889-fb0239715d801a921b164d7596159099-thumb_jpg.jpg?buster=1373402434',\n",
       "  'alt': 'BucketFeet -  e-commerce retail fashion art',\n",
       "  'description': 'Our mission is to connect people through art.\\nOur mission is to connect people through art.',\n",
       "  'link': 'http://www.bucketfeet.com',\n",
       "  'city': 'Chicago'},\n",
       " {'name': 'Leo Burnett',\n",
       "  'images': 'https://d1qb2nb5cznatu.cloudfront.net/startups/i/37686-5959ac7e72ee53e7b1168a502ea9f746-thumb_jpg.jpg?buster=1326846898',\n",
       "  'alt': 'Leo Burnett -  advertising',\n",
       "  'description': '',\n",
       "  'link': 'http://leoburnett.com/',\n",
       "  'city': 'Chicago'},\n",
       " {'name': 'GrubHub',\n",
       "  'images': 'https://d1qb2nb5cznatu.cloudfront.net/startups/i/32963-cef57a264f13521d27f63e77bb4086e0-thumb_jpg.jpg?buster=1406209987',\n",
       "  'alt': 'GrubHub -  business services hospitality restaurants',\n",
       "  'description': '',\n",
       "  'link': 'https://www.grubhub.com/careers/?nl=1&jvi=&jvk=JobListing',\n",
       "  'city': 'Chicago'},\n",
       " {'name': 'Visible',\n",
       "  'images': 'https://d1qb2nb5cznatu.cloudfront.net/startups/i/82745-5bb8026358bafed53fa639e2cac90f77-thumb_jpg.jpg?buster=1432654025',\n",
       "  'alt': 'Visible -  SaaS finance venture capital angel investing',\n",
       "  'description': 'Data sharing for startups and their investors.\\nVisible simplifies the sharing, management, and reporting of data between startups and investors. Visible was launched by a group of founders and investors that had been struggling with the vexing, but all too common, problems of tracking investment performance ...',\n",
       "  'link': 'http://www.visible.vc',\n",
       "  'city': 'Chicago'},\n",
       " {'name': 'Opternative',\n",
       "  'images': 'https://d1qb2nb5cznatu.cloudfront.net/startups/i/245813-993cb2266997d55715980578a3390518-thumb_jpg.jpg?buster=1416266455',\n",
       "  'alt': 'Opternative -  health care eyewear computer vision mobile health',\n",
       "  'description': 'The First Online Eye Exam\\nOpternative’s mission is to help the world see and feel better. Opternative has developed the first online eye exam that delivers a prescription, signed by an ophthalmologist, for glasses and contact lenses. The exam takes 15 minutes and can be completed on any ...',\n",
       "  'link': 'http://www.opternative.com',\n",
       "  'city': 'Chicago'},\n",
       " {'name': 'Charlie App',\n",
       "  'images': 'https://d1qb2nb5cznatu.cloudfront.net/startups/i/121846-2e8506e1cf57719cac628467a8eaf632-thumb_jpg.jpg?buster=1413049237',\n",
       "  'alt': 'Charlie App -  digital media SaaS business productivity sales automation',\n",
       "  'description': 'Make a killer impression on whoever you’re meeting.\\nCharlie is a tool that compiles one-pagers on the people you’re about to meet with, before you see them.\\nAn hour before every meeting in your calendar, Charlie makes sure you walk in with the intel you need to make a killer impression: breaking news on their company, ...',\n",
       "  'link': 'https://CharlieApp.com',\n",
       "  'city': 'Chicago'},\n",
       " {'name': 'Power2Switch (acquired by Choose Energy)',\n",
       "  'images': 'https://d1qb2nb5cznatu.cloudfront.net/startups/i/2016-66f4577a611dd78b020c25d921eda142-thumb_jpg.jpg?buster=1332870383',\n",
       "  'alt': 'Power2Switch (acquired by Choose Energy) -  energy efficiency startups energy management energy it',\n",
       "  'description': 'Mint for energy usage and expenses\\nPower2Switch is an electricity cost reduction and energy use monitoring/management portal for residential and commercial customers. The site is fully operational at www.Power2Switch.com',\n",
       "  'link': 'http://www.Power2Switch.com',\n",
       "  'city': 'Chicago'},\n",
       " {'name': 'Group Gift Service',\n",
       "  'images': 'https://d1qb2nb5cznatu.cloudfront.net/startups/i/702-6f04364068f9aa63df97b412bed68f4a-thumb_jpg.jpg?buster=1346182009',\n",
       "  'alt': 'Group Gift Service -  B2B payments facebook applications social commerce',\n",
       "  'description': 'BuddyMedia + WePay\\nGroup Gift Service is a B2B service that that lets merchants launch branded group-commerce applications on Facebook. Merchants control the look and feel, customize messages and links from the catalog. GGS manages the backend, which includes provisioning a custom ...',\n",
       "  'link': 'http://www.groupgiftservice.com',\n",
       "  'city': 'Chicago'},\n",
       " {'name': 'Storymix Media',\n",
       "  'images': 'https://d1qb2nb5cznatu.cloudfront.net/startups/i/21914-e2b79d48a60629574e9e30ffca004a1d-thumb_jpg.jpg?buster=1315731648',\n",
       "  'alt': 'Storymix Media -  digital media video B2B brand marketing',\n",
       "  'description': \"Crowdsourced content and automated video creation platform (Capital Factory 2011)\\nMillions of videos are taken at events like your child's soccer game, SXSW, or the CES. Yet 99% of those videos are never seen, much less transformed into something of value.\\nEnter VideoStitch. Easily crowdsource and access the video clips and photos from everyone ...\",\n",
       "  'link': 'http://storymixmedia.com',\n",
       "  'city': 'Chicago'},\n",
       " {'name': 'Groovebug',\n",
       "  'images': 'https://d1qb2nb5cznatu.cloudfront.net/startups/i/24823-2ff5dba4ed5789aca7340c2d5c4d1980-thumb_jpg.jpg?buster=1316631695',\n",
       "  'alt': 'Groovebug -  mobile music ios music services',\n",
       "  'description': 'Curated music subscription product platform. Mini Spotifys for targeted fan communities.\\nWe help music rights holders monetize their assets on mobile devices, engage with fans, identify their best customers, and reinvigorate their catalog through our digital box set platform. We work with major labels like EMI and Universal Music as well as independent ...',\n",
       "  'link': 'http://www.groovebug.com',\n",
       "  'city': 'Chicago'},\n",
       " {'name': 'Rentalutions',\n",
       "  'images': 'https://d1qb2nb5cznatu.cloudfront.net/startups/i/101936-833425dcd245950a162265f65ae58b6d-thumb_jpg.jpg?buster=1379008282',\n",
       "  'alt': 'Rentalutions -  SaaS real estate marketplaces rental housing',\n",
       "  'description': 'Empowering do-it-yourself landlords\\nOur platform empowers landlords to manage their properties themselves, without hiring a leasing broker or property manager. We do this by providing individual landlords with an automated process and all of the tools that they need.\\nOur automated process and education ...',\n",
       "  'link': 'http://rentalutions.com',\n",
       "  'city': 'Chicago'},\n",
       " {'name': 'FourKites',\n",
       "  'images': 'https://d1qb2nb5cznatu.cloudfront.net/startups/i/255531-403af4c3fce749c8de502c5f0e2f64ce-thumb_jpg.jpg?buster=1377279807',\n",
       "  'alt': 'FourKites -  SaaS enterprise software supply chain management logistics',\n",
       "  'description': 'Enterprise Cloud for Logistics and Supply Chain Management\\nFourKites is reinventing the complex and labor intensive communication systems in the Logistics and Transportation Industry by providing a cost-effective, real-time and easy-to-use cloud based software solution.\\nIn the current but outdated system, shippers and ...',\n",
       "  'link': 'http://www.fourkites.com',\n",
       "  'city': 'Chicago'},\n",
       " {'name': 'Sprout Social',\n",
       "  'images': 'https://d1qb2nb5cznatu.cloudfront.net/startups/i/33316-8b09ebfb71a643352375b277063b1f8e-thumb_jpg.jpg?buster=1364845927',\n",
       "  'alt': 'Sprout Social -  analytics social media platforms social media marketing google apps',\n",
       "  'description': \"Sprout is a social media management platform used by leading companies across the globe\\nSprout's Social Media Management platform is used by thousands of leading countries around the world to more effectively manage social channels, audience engagement, social relationship management and reporting/analytics.\\nOur customers spend ~20,000 hours a day ...\",\n",
       "  'link': 'http://sproutsocial.com/',\n",
       "  'city': 'Chicago'},\n",
       " {'name': 'CookItFor.Us',\n",
       "  'images': 'https://d1qb2nb5cznatu.cloudfront.net/startups/i/23961-a98b5c25faa1ee0d3123b088d53bd670-thumb_jpg.jpg?buster=1315729311',\n",
       "  'alt': 'CookItFor.Us -  e-commerce food and beverages marketplaces recipes',\n",
       "  'description': 'Any Recipe. Made Fresh. Delivered.\\nCookItFor.Us is an online social community connecting Cravers to Makers, to get recipes made. We enable Cravers (people who love to eat) to get their selected recipes made fresh, and delivered to their door; and fully licensed Makers (caterers, restaurants, bakeries, ...',\n",
       "  'link': 'http://CookItFor.Us',\n",
       "  'city': 'Chicago'},\n",
       " {'name': 'gtrot',\n",
       "  'images': 'https://d1qb2nb5cznatu.cloudfront.net/startups/i/21681-dff49abe479de583de66428daf1ab4ec-thumb_jpg.jpg?buster=1315731882',\n",
       "  'alt': 'gtrot -  local social commerce social travel content discovery',\n",
       "  'description': 'Discover your city, share your favorites, and plan with friends\\nPivoted into Rang.com.\\nDiscover your city\\nFood, nightlife, events, deals & more – we’re on top of it all. Personalized recommendations based on social data and the users you follow.\\nCollect your favorites\\nShow off your favorite BBQ joints or keep track of concerts ...',\n",
       "  'link': 'http://www.gtrot.com',\n",
       "  'city': 'Chicago'},\n",
       " {'name': 'StageBloc',\n",
       "  'images': 'https://d1qb2nb5cznatu.cloudfront.net/startups/i/24905-8207a8717a0d048132f46cf1dd427913-thumb_jpg.jpg?buster=1422897341',\n",
       "  'alt': 'StageBloc -  mobile social media big data e commerce platforms',\n",
       "  'description': 'End-to-end context marketing & commerce\\nStageBloc helps you better understand & connect with your audience and own your digital relationships.\\xa0Our platform provides community, management, and marketing tools in one networked solution.',\n",
       "  'link': 'http://stagebloc.com/',\n",
       "  'city': 'Chicago'},\n",
       " {'name': 'Donde',\n",
       "  'images': 'https://d1qb2nb5cznatu.cloudfront.net/startups/i/147704-a58633aff21da1a54a54a758faa60858-thumb_jpg.jpg?buster=1395522889',\n",
       "  'alt': 'Donde -  mobile SaaS location based services bridging online and offline',\n",
       "  'description': 'Location technology platform\\nDonde is a mobile marketing platform for brands and retailers that helps drive foot traffic, improve mobile SEO performance and deliver an omnichannel strategy. Our location aware technology understands location, dynamically delivers relevant content and measures ...',\n",
       "  'link': 'http://donde.io',\n",
       "  'city': 'Chicago'},\n",
       " {'name': 'Optyn',\n",
       "  'images': 'https://d1qb2nb5cznatu.cloudfront.net/startups/i/27317-380ed04ba551cac25ad2b7fbc3b4e3ef-thumb_jpg.jpg?buster=1361926333',\n",
       "  'alt': 'Optyn -  SaaS local small and medium businesses email marketing',\n",
       "  'description': 'Small Business Marketing Made Simple\\nOptyn makes marketing simple for small businesses by providing easy, automated tools to acquire and engage their customers. Optyn’s marketing platform helps business owners decide what message to communicate and then enables them to create, schedule and send an ...',\n",
       "  'link': 'http://www.optyn.com',\n",
       "  'city': 'Chicago'},\n",
       " {'name': 'CentUp',\n",
       "  'images': 'https://d1qb2nb5cznatu.cloudfront.net/startups/i/67671-410272c3d19ed1358bdbde4a6abb5f94-thumb_jpg.jpg?buster=1371585135',\n",
       "  'alt': 'CentUp -  digital media publishing crowdsourcing finance',\n",
       "  'description': 'Get paid for your content. Do good.\\nA one-click micropayment that lets fans give small donations towards specific pieces of online content. The Kicker: Every contribution is split evenly between the author, and the donor’s favorite charity. It’s the 1-for-1 model, for content.',\n",
       "  'link': 'http://centup.org',\n",
       "  'city': 'Chicago'},\n",
       " {'name': 'AMPY',\n",
       "  'images': 'https://d1qb2nb5cznatu.cloudfront.net/startups/i/282153-ca8ec3df239713bd73471e454fa52780-thumb_jpg.jpg?buster=1418399423',\n",
       "  'alt': 'AMPY -  mobile clean energy fitness batteries',\n",
       "  'description': \"Charge your mobile devices using your movement\\nAMPY is the world's smallest dual-mode battery that charges both from human motion and from an AC outlet. An active day gives a user another few hours of battery life for their smartphone. A full AMPY delivers up to 60% battery life for a smartphone or several ...\",\n",
       "  'link': 'http://www.getampy.com',\n",
       "  'city': 'Chicago'},\n",
       " {'name': 'ShipBob',\n",
       "  'images': 'https://d1qb2nb5cznatu.cloudfront.net/startups/i/416177-a050cc59676eca51fcf983b1881f75cd-thumb_jpg.jpg?buster=1415818917',\n",
       "  'alt': 'ShipBob -  shipping Packaging Supplies mobile application Express mail',\n",
       "  'description': 'On demand packaging and shipping for businesses\\nShipBob provides on-demand shipping for businesses. Using our web dashboard, businesses can integrate their e-commerce stores and place orders. ShipBob takes care of the rest. We will pickup the items, pack and ship them and upload the tracking numbers back to ...',\n",
       "  'link': 'http://www.shipbob.com',\n",
       "  'city': 'Chicago'},\n",
       " {'name': 'Avant',\n",
       "  'images': 'https://d1qb2nb5cznatu.cloudfront.net/startups/i/168565-45d9c198ede0987843d850c5a963f084-thumb_jpg.jpg?buster=1434042946',\n",
       "  'alt': 'Avant -  analytics machine learning big data web development',\n",
       "  'description': 'Changing the way you borrow with safer, faster, better financial products\\nAvant is changing the way consumers borrow money. Utilizing advanced algorithms and machine-learning capabilities, the company offers a unique and highly customized approach to the personal loan process. The combination of technology, analytics and customer service ...',\n",
       "  'link': 'https://www.avant.com',\n",
       "  'city': 'Chicago'},\n",
       " {'name': 'Exchangery',\n",
       "  'images': 'https://d1qb2nb5cznatu.cloudfront.net/startups/i/23727-f1aacdf51dbb7b2ea056396f18ba45fb-thumb_jpg.jpg?buster=1315729579',\n",
       "  'alt': 'Exchangery -  SaaS financial services financial exchanges startups',\n",
       "  'description': 'Commodities made easy\\nExchangery helps people start novel commodities exchanges. We provide the technology platform, regulatory approval, banking and clearing relationships while our customers focus on developing new markets. We are talking with businesses and trade associations in ...',\n",
       "  'link': 'http://exchangery.com',\n",
       "  'city': 'Chicago'},\n",
       " {'name': 'Aisle50',\n",
       "  'images': 'https://d1qb2nb5cznatu.cloudfront.net/startups/i/53353-cb86e3c01cf4648609a0bcd506077980-thumb_jpg.jpg?buster=1376344124',\n",
       "  'alt': 'Aisle50 -  sales and marketing analytics coupons groceries',\n",
       "  'description': 'Aisle50 sells grocery deals direct to shoppers and partners with retailers for redemption.\\nAisle50 gives consumers an easy, fully digital way to save big on groceries at their normal grocery stores.\\nWe offer the best ROI in the industry for CPG marketing teams, who spend more than $40 billion a year.\\nWe will supplant newspaper coupon books, which ...',\n",
       "  'link': 'http://aisle50.com',\n",
       "  'city': 'Chicago'},\n",
       " {'name': 'caremerge',\n",
       "  'images': 'https://d1qb2nb5cznatu.cloudfront.net/startups/i/31358-237291ff930f06db0fdc96656ac07eb5-thumb_jpg.jpg?buster=1325790921',\n",
       "  'alt': 'caremerge -  health care information technology mhealth elder care assisted living',\n",
       "  'description': 'Healthcare Communication and Care Coordination Platform\\nWinner of the Most Innovative Company Award in long term care!\\nCaremerge forges meaningful connections between providers, families and seniors seeking to improve communication in today’s complex healthcare environment.\\nWith a revolutionary, easy-to-use cloud-based ...',\n",
       "  'link': 'http://www.caremerge.com',\n",
       "  'city': 'Chicago'},\n",
       " {'name': 'Generous Deals',\n",
       "  'images': 'https://d1qb2nb5cznatu.cloudfront.net/startups/i/18853-888ec270a6cb8a94bcb8c5bf13be6f17-thumb_jpg.jpg?buster=1315735031',\n",
       "  'alt': 'Generous Deals -  e-commerce ventures for good social commerce deals',\n",
       "  'description': 'VERY productive, no cost, passive fundraising service giving consumers sweet deals\\nGenerous Deals is a daily deal online fundraising platform. We partner up with charity and non-profit organizations to help them with their fundraising efforts. We use the daily deal model to provide charities and non-profits with a fundraising vehicle while ...',\n",
       "  'link': 'http://www.GenerousDeals.com',\n",
       "  'city': 'Chicago'},\n",
       " {'name': 'Doggyloot',\n",
       "  'images': 'https://d1qb2nb5cznatu.cloudfront.net/startups/i/28002-cbe0f9a8c2bce0f11a83575cd002c305-thumb_jpg.jpg?buster=1421987208',\n",
       "  'alt': 'Doggyloot -  e-commerce consumer goods retail pets',\n",
       "  'description': 'Top Dog in Online Pet Product Discovery, acquired by FamilyPet in 2015\\ndoggyloot is a super-simple eCommerce platform that sells curated pet products to a highly engaged customer base. We help dog-loving customers discover top-quality products every day at the most competitive prices with our daily emails, and make it convenient for ...',\n",
       "  'link': 'http://www.doggyloot.com',\n",
       "  'city': 'Chicago'},\n",
       " {'name': 'Procured Health',\n",
       "  'images': 'https://d1qb2nb5cznatu.cloudfront.net/startups/i/104504-ac537a18265e4916f2662a12406167ae-thumb_jpg.jpg?buster=1342129515',\n",
       "  'alt': 'Procured Health -  health care medical devices health care information technology health and wellness',\n",
       "  'description': 'Making the medical device market efficient\\nProcured Health is a web-accessible information platform that enables allows hospitals to tackle their fastest growing cost - medical devices. The platform leverages the collective knowledge of hospital members, along with public data from vendors and the FDA, ...',\n",
       "  'link': 'http://www.procuredhealth.com',\n",
       "  'city': 'Chicago'},\n",
       " {'name': 'BenchPrep',\n",
       "  'images': 'https://d1qb2nb5cznatu.cloudfront.net/startups/i/80315-632f43f8e7b19cf1130058907694bb41-thumb_jpg.jpg?buster=1333389792',\n",
       "  'alt': 'BenchPrep -  mobile education analytics game mechanics',\n",
       "  'description': 'Exam Prep Platform: iTunes of exam prep.\\nBenchPrep is a learning platform that helps students study for any exam on any device (computers (web), iPhone, iPad, and Android).\\nBenchPrep courses are interactive, adaptive & social.\\nBenchPrep partners with the biggest publishers including McGraw Hill and ...',\n",
       "  'link': 'http://www.benchprep.com',\n",
       "  'city': 'Chicago'},\n",
       " {'name': 'DePaul University',\n",
       "  'images': 'https://d1qb2nb5cznatu.cloudfront.net/startups/i/112513-ded7f14a85d0b5f1a460cac43b9b55ca-thumb_jpg.jpg?buster=1408665351',\n",
       "  'alt': 'DePaul University -  education',\n",
       "  'description': '',\n",
       "  'link': 'http://www.depaul.edu/Pages/default.aspx',\n",
       "  'city': 'Chicago'},\n",
       " {'name': 'RIVS',\n",
       "  'images': 'https://d1qb2nb5cznatu.cloudfront.net/startups/i/145798-dd99c16d66e9dc75c4208a75c495b762-thumb_jpg.jpg?buster=1364874418',\n",
       "  'alt': 'RIVS -  SaaS recruiting human resources staffing firms',\n",
       "  'description': \"Online Interview SaaS Platform for Enterprises\\nIt's no secret that companies waste WAY too much time with the wrong job candidates early on in the hiring process.\\nRIVS solves this $50B+ problem by providing enterprise companies like Farmers Insurance and Charles Schwab a platform that conducts screen interviews ...\",\n",
       "  'link': 'http://www.rivs.com',\n",
       "  'city': 'Chicago'},\n",
       " {'name': 'clusterFlunk',\n",
       "  'images': 'https://d1qb2nb5cznatu.cloudfront.net/startups/i/195473-763e32a6af86b565a22b52551730bc6c-thumb_jpg.jpg?buster=1365994568',\n",
       "  'alt': 'clusterFlunk  -  education university students Social',\n",
       "  'description': 'Get better grades. \\nGet better grades.\\xa0\\nFeatures:\\xa0\\n1. Post questions about your academics\\xa0\\n2. Upload/download files (study guides, lecture notes, past exams, etc.)\\n3. Free',\n",
       "  'link': 'http://clusterflunk.com/',\n",
       "  'city': 'Chicago'},\n",
       " {'name': 'Public Good Software',\n",
       "  'images': 'https://d1qb2nb5cznatu.cloudfront.net/startups/i/191924-f67f9e5259323f1568e72a12eedfe5d7-thumb_jpg.jpg?buster=1381349949',\n",
       "  'alt': 'Public Good Software -  SaaS ventures for good social media platforms nonprofits',\n",
       "  'description': 'A marketplace for civic participation.\\nPublic Good is a community of people and nonprofits working together to inform, engage, and activate the next generation of civic champions - the donors, volunteers, and advocates who help make the world a better place.\\nOur mission is to turn passions into actions ...',\n",
       "  'link': 'http://www.publicgood.com',\n",
       "  'city': 'Chicago'},\n",
       " {'name': 'Brideside',\n",
       "  'images': 'https://d1qb2nb5cznatu.cloudfront.net/startups/i/122331-8eecfcee558f7254af996949dcd91729-thumb_jpg.jpg?buster=1428445013',\n",
       "  'alt': 'Brideside -  e-commerce fashion women-focused weddings',\n",
       "  'description': 'Warby Parker for Bridal Party Retail\\nBrideside is an online boutique to deliver on life’s most meaningful events. We started with the wedding vertical, and more specifically, the bridesmaid dress. We believe that every woman should experience the white glove service she deserves when shopping online. ...',\n",
       "  'link': 'http://www.brideside.com',\n",
       "  'city': 'Chicago'},\n",
       " {'name': 'Threadless',\n",
       "  'images': 'https://d1qb2nb5cznatu.cloudfront.net/startups/i/40241-d9d39ff94b7f25750679f09407988623-thumb_jpg.jpg?buster=1326848981',\n",
       "  'alt': 'Threadless -  e-commerce consumer goods fashion crowdsourcing',\n",
       "  'description': 'Giving the creative minds of the world opportunities to make and sell great art.\\nThreadless exists to give the creative minds of the world more opportunities to make and sell great art.',\n",
       "  'link': 'http://www.threadless.com',\n",
       "  'city': 'Chicago'},\n",
       " {'name': 'Interior Define',\n",
       "  'images': 'https://d1qb2nb5cznatu.cloudfront.net/startups/i/281621-fc3049399a8305cabfa5c0bcee0408f9-thumb_jpg.jpg?buster=1388427510',\n",
       "  'alt': 'Interior Define -  e-commerce custom retail home decor furniture',\n",
       "  'description': 'Warby Parker of Furniture\\nInterior Define is reshaping the way people shop for quality, customizable sofas at an attainable price. We focus on an an assortment of thoughtfully designed and well-crafted pieces that are fairly priced and made-to-order.\\nBusiness Insider \"25 companies that ...',\n",
       "  'link': 'http://www.interiordefine.com',\n",
       "  'city': 'Chicago'},\n",
       " {'name': 'LendSquare',\n",
       "  'images': 'https://d1qb2nb5cznatu.cloudfront.net/startups/i/257676-085ea5e0c5f6ee95031d18775b9ab5a9-thumb_jpg.jpg?buster=1406863209',\n",
       "  'alt': 'LendSquare -  financial services small and medium businesses social fundraising FinTech',\n",
       "  'description': 'Lend money to small businesses in your neighborhood\\nWe help you lend money to small businesses in your neighborhood.\\nIf you are a small business owner, we help you grow and pay interest to your customers and neighbors instead of paying a credit card.\\nLocal credit is better credit: our interest rates are more ...',\n",
       "  'link': 'http://www.lendsquare.com',\n",
       "  'city': 'Chicago'},\n",
       " {'name': 'Buzz Digital',\n",
       "  'images': 'https://d1qb2nb5cznatu.cloudfront.net/startups/i/23776-8f9f6f87836f42698589794b1a33b054-thumb_jpg.jpg?buster=1386040767',\n",
       "  'alt': 'Buzz Digital -  social media lead generation',\n",
       "  'description': 'Trackable buzz through the websites, blogs and social connections that people trust.\\nWith a single line of code, Buzz Referrals allows any company to have its own, branded referral program that integrates with both social media and its own website.\\nOur programs create inbound links, generate social media followers, and drive incremental revenue, ...',\n",
       "  'link': 'http://www.buzzdigital.com',\n",
       "  'city': 'Chicago'},\n",
       " {'name': 'Music Dealers',\n",
       "  'images': 'https://d1qb2nb5cznatu.cloudfront.net/startups/i/101699-e17fc1ce1e86c1fcf8625abcfa040daf-thumb_jpg.jpg?buster=1420833107',\n",
       "  'alt': 'Music Dealers  -  advertising music film production tv production',\n",
       "  'description': 'Music Dealers™ is a music agency and B2B music licensing platform \\nWe are Music Dealers - Your unprecedented, unparalleled,\\xa0full-service music partner.\\nWe believe in the power of music.\\xa0It unites, it strengthens, it connects. Music Dealers brings\\xa0together independent artists from around the globe with\\xa0brands, agencies and studios ...',\n",
       "  'link': 'http://www.musicdealers.com',\n",
       "  'city': 'Chicago'},\n",
       " {'name': 'Modest',\n",
       "  'images': 'https://d1qb2nb5cznatu.cloudfront.net/startups/i/318608-ccae8b16c9a8e211fd0723f2f6f8e644-thumb_jpg.jpg?buster=1389048655',\n",
       "  'alt': 'Modest -  mobile mobile commerce e commerce platforms curated web',\n",
       "  'description': \"The future of commerce\\nModest gives your customers a whole new way of shopping.\\nWe've created an end-to-end experience that makes buying from you faster and easier than ever before.\",\n",
       "  'link': 'http://modest.com',\n",
       "  'city': 'Chicago'},\n",
       " {'name': 'FanFueled',\n",
       "  'images': 'https://d1qb2nb5cznatu.cloudfront.net/startups/i/23285-0eee447a2d2920fd73a697dc4376cc0c-thumb_jpg.jpg?buster=1315730118',\n",
       "  'alt': 'FanFueled -  performance marketing social commerce brand marketing consumer engagement',\n",
       "  'description': 'FanFueled Community Engagement Systems \\nFanFueled Engagement Systems empower brands to build, congregate, mobilize and monetize fan communities better than any other loyalty platform on the market.',\n",
       "  'link': 'http://FanFueled.com',\n",
       "  'city': 'Chicago'},\n",
       " {'name': 'TradingView',\n",
       "  'images': 'https://d1qb2nb5cznatu.cloudfront.net/startups/i/89224-ad822ed41209818f082b3ea607779236-thumb_jpg.jpg?buster=1349446845',\n",
       "  'alt': 'TradingView -  social media SaaS trading finance technology',\n",
       "  'description': 'Bloomberg-quality platform for non-professional investors\\nTradingView is an online community for investors and people who want to learn about the markets. We provide:\\n- Financial analysis in easy infographics\\n- Learn from published ideas to maximize your profit\\n- Publish ideas and build a name in the trading community\\n- ...',\n",
       "  'link': 'https://www.tradingview.com',\n",
       "  'city': 'Chicago'},\n",
       " {'name': 'MightyNest',\n",
       "  'images': 'https://d1qb2nb5cznatu.cloudfront.net/startups/i/3170-a90fa40bb18bc17e6634365bccd7a603-thumb_jpg.jpg?buster=1384475019',\n",
       "  'alt': 'MightyNest -  e-commerce ventures for good social media platforms health and wellness',\n",
       "  'description': \"Powering mighty lives\\nMightyNest's affinity platform channels a parent's passion for their family and healthy living into a profitable ecommerce business while building an engaged community that gives back to their local school.\\nOur platform has 3 key components:\\n- Content filled with ...\",\n",
       "  'link': 'http://MightyNest.com',\n",
       "  'city': 'Chicago'},\n",
       " {'name': 'Snapsheet',\n",
       "  'images': 'https://d1qb2nb5cznatu.cloudfront.net/startups/i/172453-ab54da25eec3eee49e6232ec92ff1295-thumb_jpg.jpg?buster=1361497981',\n",
       "  'alt': 'Snapsheet -  mobile B2B automotive insurance',\n",
       "  'description': 'Mobile self-service claims solution\\nSnapsheet provides mobile branded apps to help auto insurance carriers settle claims in hours instead of days. Our self-service mobile app enables customers to take photos of their damaged vehicles on their own time without the hassle of scheduling an adjuster ...',\n",
       "  'link': 'http://www.snapsheetapp.com',\n",
       "  'city': 'Chicago'},\n",
       " {'name': 'SimpleRelevance',\n",
       "  'images': 'https://d1qb2nb5cznatu.cloudfront.net/startups/i/3558-543fd5fa67fbeff941f5065b66530eaa-thumb_jpg.jpg?buster=1375391518',\n",
       "  'alt': 'SimpleRelevance -  e-commerce big data email marketing personalization',\n",
       "  'description': 'Machine Learning For Marketers\\nWe make it incredibly easy for your business to personalize digital marketing communication through personalized landing pages, email, digital ads, social media messages, and SMS messages. Our technology combines behavioral, demographic, psychographic, and other ...',\n",
       "  'link': 'http://www.simplerelevance.com',\n",
       "  'city': 'Chicago'},\n",
       " {'name': 'Pictarine',\n",
       "  'images': 'https://d1qb2nb5cznatu.cloudfront.net/startups/i/21196-7721e9f4ed4ac4f107c6ebb2148773e6-thumb_jpg.jpg?buster=1358464549',\n",
       "  'alt': 'Pictarine -  mobile social media platforms photo sharing android',\n",
       "  'description': 'Turn the world into photos\\nPictarine instantly turns your social networks into an amazing photo experience.\\nBrowse your interests with photos: Pictarine instantly turns social networks into photos of what you like!!\\nEvery day, you now open only one app, you save time and you stay up to ...',\n",
       "  'link': 'https://goo.gl/JGNF9',\n",
       "  'city': 'Chicago'},\n",
       " {'name': 'Real Food Blends',\n",
       "  'images': 'https://d1qb2nb5cznatu.cloudfront.net/startups/i/139442-a7a24e068f7600d7b8438534340d0732-thumb_jpg.jpg?buster=1386874217',\n",
       "  'alt': 'Real Food Blends -  health care medical food and beverages ventures for good',\n",
       "  'description': '100% real food meals for those on feeding tubes. Disrupting the $10B enteral food market. \\nReal Food Blends provides shelf-stable, 100% real food meals that can be fed through a feeding tube. Unlike the current commercial formulas that make up the $10 billion enteral market, Real Food Blends meals do not contain corn syrup, additives, preservatives or ...',\n",
       "  'link': 'http://Www.RealFoodBlends.com',\n",
       "  'city': 'Chicago'},\n",
       " {'name': 'CouponTrade',\n",
       "  'images': 'https://d1qb2nb5cznatu.cloudfront.net/startups/i/27997-376feb689296bcbdf263ad9092e8a20a-thumb_jpg.jpg?buster=1361235648',\n",
       "  'alt': 'CouponTrade -  mobile commerce coupons loyalty programs',\n",
       "  'description': 'Online Coupons - Coupons - Real Time Offers\\n-',\n",
       "  'link': 'http://www.coupontrade.com',\n",
       "  'city': 'Chicago'},\n",
       " {'name': 'Private Capital Alliance',\n",
       "  'images': 'https://d1qb2nb5cznatu.cloudfront.net/startups/i/171743-ac0d21404fe42f82d53a0a8aa6a69b8d-thumb_jpg.jpg?buster=1361395071',\n",
       "  'alt': 'Private Capital Alliance - ',\n",
       "  'description': 'PCA Seeks to Provide Capital to Growth Stage and Lower Middle Market Companies\\nPrivate Capital Alliance seeks to provide financial capital, both debt and equity, to early stage, growth stage, and lower middle market companies. We are a private membership based organization, comprised of SEC accredited individual investors (“angel investors”), ...',\n",
       "  'link': 'http://www.privatecapitalalliance.com',\n",
       "  'city': 'Chicago'},\n",
       " {'name': 'SocialCrunch',\n",
       "  'images': 'https://d1qb2nb5cznatu.cloudfront.net/startups/i/82817-c2e04fab69ecd30e8862e4f2d030a01a-thumb_jpg.jpg?buster=1334263507',\n",
       "  'alt': 'SocialCrunch -  social games big data market research personal data',\n",
       "  'description': 'SocialCrunch is the new way to unlock provocative insights for brands and their agencies.\\nSocialCrunch is building a Behavior Graph of people on the Internet. We map how people behave in the real world to help companies of all sizes understand 21st century consumers.',\n",
       "  'link': 'http://about.socialcrunch.com',\n",
       "  'city': 'Chicago'},\n",
       " {'name': 'StatHat',\n",
       "  'images': 'https://d1qb2nb5cznatu.cloudfront.net/startups/i/258470-5490a2ee14ecd84b6fce13cb64151d62-thumb_jpg.jpg?buster=1377832242',\n",
       "  'alt': 'StatHat -  SaaS analytics big data cloud data services',\n",
       "  'description': 'Track custom stats\\nStatHat is a tool that allows companies to track custom stats in their applications. It only takes one line of code (16 languages supported). You get beautiful charts, alerts, reports, and automatic anomaly detection.\\nStatHat is based on a tool used at OkCupid ...',\n",
       "  'link': 'http://stathat.com',\n",
       "  'city': 'Chicago'},\n",
       " {'name': 'Netgamix',\n",
       "  'images': 'https://d1qb2nb5cznatu.cloudfront.net/startups/i/21469-53a62be8e48e2daf2c5422883911de83-thumb_jpg.jpg?buster=1324696991',\n",
       "  'alt': 'Netgamix -  digital media social games facebook applications casual games',\n",
       "  'description': 'Your Multimedia trivia games platform \\nNetgamix is the platform to allow anyone to easily create and play multimedia trivia games and share them with their social networks. The platform uses tournaments and a competitive ranking system for discovery and engagement.\\nWe aim to be relevant to expert/game ...',\n",
       "  'link': 'http://www.netgamix.com',\n",
       "  'city': 'Chicago'},\n",
       " {'name': 'Stork Stack',\n",
       "  'images': 'https://d1qb2nb5cznatu.cloudfront.net/startups/i/22973-b23885b9006f376d559677982b924396-thumb_jpg.jpg?buster=1332432409',\n",
       "  'alt': 'Stork Stack -  e-commerce subscription businesses',\n",
       "  'description': 'Serendipity Shipped Monthly for Baby and Mom\\nWe like to say: serendipity delivered monthly to a mom’s doorstep. We do the research, you get the benefits. No hassle, no fuss, just great products & a good value with some helpful tips & encouragement along the parenting journey.\\nEach month, members receive ...',\n",
       "  'link': 'http://www.storkstack.com',\n",
       "  'city': 'Chicago'}]"
      ]
     },
     "execution_count": 8,
     "metadata": {},
     "output_type": "execute_result"
    }
   ],
   "source": [
    "reco"
   ]
  },
  {
   "cell_type": "code",
   "execution_count": 12,
   "metadata": {},
   "outputs": [],
   "source": [
    "vectors = vectors[:100]"
   ]
  },
  {
   "cell_type": "code",
   "execution_count": 65,
   "metadata": {},
   "outputs": [],
   "source": [
    "payload = {\n",
    "    \"name\": \"Descriptions index 1\",\n",
    "    \"desc\": \"this collection is used to search descrptions of products\",\n",
    "    \"author\": \"Yasir\",\n",
    "    \"data\": reco,\n",
    "    \"transformer_model_name\":\"distilbert-base-nli-stsb-mean-tokens\",\n",
    "    \"encoded_fields\": ['description'],\n",
    "    \"vectors\": vectors.tolist(),\n",
    "    \"vector_size\": vector_size,\n",
    "}"
   ]
  },
  {
   "cell_type": "code",
   "execution_count": 10,
   "metadata": {},
   "outputs": [],
   "source": [
    "import requests"
   ]
  },
  {
   "cell_type": "code",
   "execution_count": 66,
   "metadata": {},
   "outputs": [
    {
     "data": {
      "text/plain": [
       "{'message': 'accepted',\n",
       " 'collection': 'Descriptions_index_1',\n",
       " 'id': '9cdb8d5a-36de-43a7-9be2-8097b5a40549'}"
      ]
     },
     "execution_count": 66,
     "metadata": {},
     "output_type": "execute_result"
    }
   ],
   "source": [
    "requests.post(\"http://localhost:8000/collections/new\", \n",
    "json=payload).json()"
   ]
  },
  {
   "cell_type": "markdown",
   "metadata": {},
   "source": []
  },
  {
   "cell_type": "code",
   "execution_count": null,
   "metadata": {},
   "outputs": [],
   "source": []
  },
  {
   "cell_type": "code",
   "execution_count": 75,
   "metadata": {},
   "outputs": [],
   "source": [
    "from pathlib import Path"
   ]
  },
  {
   "cell_type": "code",
   "execution_count": 142,
   "metadata": {},
   "outputs": [],
   "source": [
    "from io import BytesIO\n",
    "import docker"
   ]
  },
  {
   "cell_type": "code",
   "execution_count": 81,
   "metadata": {},
   "outputs": [],
   "source": [
    "ob = Path().cwd() / 'shared' /'onnx'"
   ]
  },
  {
   "cell_type": "code",
   "execution_count": 85,
   "metadata": {},
   "outputs": [
    {
     "data": {
      "text/plain": [
       "PosixPath('/Users/y.almutairi/Desktop/Workspace/InCoder/shared/onnx/.DS_Store')"
      ]
     },
     "execution_count": 85,
     "metadata": {},
     "output_type": "execute_result"
    }
   ],
   "source": [
    "list(ob.iterdir())"
   ]
  },
  {
   "cell_type": "code",
   "execution_count": 242,
   "metadata": {},
   "outputs": [],
   "source": [
    "with open('dockerfile/dockerfile', mode='r') as f:\n",
    "    dockerfile = f.read().split('\\n')"
   ]
  },
  {
   "cell_type": "code",
   "execution_count": null,
   "metadata": {},
   "outputs": [],
   "source": [
    "dockerfile = '''\n",
    "FROM busybox:buildroot-2014.02\n",
    "VOLUME /data\n",
    "CMD [\"/bin/sh\"]\n",
    "'''"
   ]
  },
  {
   "cell_type": "code",
   "execution_count": 243,
   "metadata": {},
   "outputs": [],
   "source": [
    "f = BytesIO('\\n'.join(dockerfile).encode('utf-8'))"
   ]
  },
  {
   "cell_type": "code",
   "execution_count": 173,
   "metadata": {},
   "outputs": [],
   "source": [
    "dockerfile[-2] = 'COPY onnx/Descriptions index ./onnx/'"
   ]
  },
  {
   "cell_type": "code",
   "execution_count": 246,
   "metadata": {},
   "outputs": [
    {
     "data": {
      "text/plain": [
       "b'FROM python:3-slim\\nWORKDIR /app\\nCOPY requirements.txt ./\\nCOPY config.py ./\\nCOPY api.py ./\\nCOPY encoder.py ./\\nRUN pip install --no-cache-dir -r requirements.txt\\n\\nCMD [\"python\", \"api.py\"]'"
      ]
     },
     "execution_count": 246,
     "metadata": {},
     "output_type": "execute_result"
    }
   ],
   "source": [
    "f.getvalue()"
   ]
  },
  {
   "cell_type": "code",
   "execution_count": 196,
   "metadata": {},
   "outputs": [
    {
     "data": {
      "text/plain": [
       "['FROM python:3-slim',\n",
       " 'WORKDIR /app',\n",
       " 'COPY requirements.txt ./',\n",
       " 'COPY config.py ./',\n",
       " 'COPY api.py ./',\n",
       " 'COPY encoder.py ./',\n",
       " 'RUN pip install --no-cache-dir -r requirements.txt',\n",
       " '',\n",
       " 'CMD [\"python\", \"api.py\"]']"
      ]
     },
     "execution_count": 196,
     "metadata": {},
     "output_type": "execute_result"
    }
   ],
   "source": [
    "dockerfile"
   ]
  },
  {
   "cell_type": "code",
   "execution_count": 197,
   "metadata": {},
   "outputs": [
    {
     "data": {
      "text/plain": [
       "b'FROM python:3-slim\\nWORKDIR /app\\nCOPY requirements.txt ./\\nCOPY config.py ./\\nCOPY api.py ./\\nCOPY encoder.py ./\\nRUN pip install --no-cache-dir -r requirements.txt\\n\\nCMD [\"python\", \"api.py\"]'"
      ]
     },
     "execution_count": 197,
     "metadata": {},
     "output_type": "execute_result"
    }
   ],
   "source": [
    "f.getvalue()"
   ]
  },
  {
   "cell_type": "code",
   "execution_count": 30,
   "metadata": {},
   "outputs": [],
   "source": [
    "import docker"
   ]
  },
  {
   "cell_type": "code",
   "execution_count": 31,
   "metadata": {},
   "outputs": [],
   "source": [
    "docker_cli = docker.from_env()\n"
   ]
  },
  {
   "cell_type": "code",
   "execution_count": null,
   "metadata": {},
   "outputs": [],
   "source": [
    "from docker.errors import NotFound"
   ]
  },
  {
   "cell_type": "code",
   "execution_count": 67,
   "metadata": {},
   "outputs": [],
   "source": [
    "container = docker_cli.containers.get(\"Descriptions_index_1-distilbert-base-nli-stsb-mean-tokens\")"
   ]
  },
  {
   "cell_type": "code",
   "execution_count": 68,
   "metadata": {},
   "outputs": [
    {
     "data": {
      "text/plain": [
       "{'8080/tcp': [{'HostIp': '127.0.0.1', 'HostPort': '50929'}]}"
      ]
     },
     "execution_count": 68,
     "metadata": {},
     "output_type": "execute_result"
    }
   ],
   "source": [
    "container.ports"
   ]
  },
  {
   "cell_type": "code",
   "execution_count": 42,
   "metadata": {},
   "outputs": [],
   "source": [
    "container.stop()"
   ]
  },
  {
   "cell_type": "code",
   "execution_count": 50,
   "metadata": {},
   "outputs": [],
   "source": [
    "container.reload()"
   ]
  },
  {
   "cell_type": "code",
   "execution_count": 49,
   "metadata": {},
   "outputs": [],
   "source": [
    "container.pause()"
   ]
  },
  {
   "cell_type": "code",
   "execution_count": 51,
   "metadata": {},
   "outputs": [
    {
     "data": {
      "text/plain": [
       "'paused'"
      ]
     },
     "execution_count": 51,
     "metadata": {},
     "output_type": "execute_result"
    }
   ],
   "source": [
    "container.status"
   ]
  },
  {
   "cell_type": "code",
   "execution_count": 34,
   "metadata": {},
   "outputs": [
    {
     "data": {
      "text/plain": [
       "[<Container: 0da29e6e5c2d>,\n",
       " <Container: 4b22ae95db3c>,\n",
       " <Container: 4b62a4b9dad5>]"
      ]
     },
     "execution_count": 34,
     "metadata": {},
     "output_type": "execute_result"
    }
   ],
   "source": [
    "docker_cli.containers.list(all=True)"
   ]
  },
  {
   "cell_type": "code",
   "execution_count": 63,
   "metadata": {},
   "outputs": [],
   "source": [
    "\n",
    "index = docker_cli.containers.get('Descriptions_index-super_resolution_1')\n"
   ]
  },
  {
   "cell_type": "code",
   "execution_count": 54,
   "metadata": {},
   "outputs": [
    {
     "data": {
      "text/plain": [
       "<Container: 4b22ae95db3c>"
      ]
     },
     "execution_count": 54,
     "metadata": {},
     "output_type": "execute_result"
    }
   ],
   "source": [
    "index"
   ]
  },
  {
   "cell_type": "code",
   "execution_count": 55,
   "metadata": {},
   "outputs": [
    {
     "data": {
      "text/plain": [
       "{'IPAMConfig': None,\n",
       " 'Links': None,\n",
       " 'Aliases': None,\n",
       " 'NetworkID': 'fddd7e9e7167875ae2c1b58c3fe17164ef1f99adcfb80543a5f1b017fdaf563a',\n",
       " 'EndpointID': '394ae1152f80c7f6b7344e5447e6117ae7dfd7db36d529482a30f4bf36361cc7',\n",
       " 'Gateway': '172.17.0.1',\n",
       " 'IPAddress': '172.17.0.2',\n",
       " 'IPPrefixLen': 16,\n",
       " 'IPv6Gateway': '',\n",
       " 'GlobalIPv6Address': '',\n",
       " 'GlobalIPv6PrefixLen': 0,\n",
       " 'MacAddress': '02:42:ac:11:00:02',\n",
       " 'DriverOpts': None}"
      ]
     },
     "execution_count": 55,
     "metadata": {},
     "output_type": "execute_result"
    }
   ],
   "source": [
    "index.attrs['NetworkSettings']['Networks']['bridge']"
   ]
  },
  {
   "cell_type": "code",
   "execution_count": 169,
   "metadata": {},
   "outputs": [
    {
     "data": {
      "text/plain": [
       "{}"
      ]
     },
     "execution_count": 169,
     "metadata": {},
     "output_type": "execute_result"
    }
   ],
   "source": [
    "container.ports"
   ]
  },
  {
   "cell_type": "code",
   "execution_count": 170,
   "metadata": {},
   "outputs": [
    {
     "data": {
      "text/plain": [
       "{'8080/tcp': [{'HostIp': '127.0.0.1', 'HostPort': '61476'}]}"
      ]
     },
     "execution_count": 170,
     "metadata": {},
     "output_type": "execute_result"
    }
   ],
   "source": [
    "index.ports"
   ]
  },
  {
   "cell_type": "code",
   "execution_count": 58,
   "metadata": {},
   "outputs": [],
   "source": [
    "import requests"
   ]
  },
  {
   "cell_type": "code",
   "execution_count": 69,
   "metadata": {},
   "outputs": [],
   "source": [
    "r = requests.get(\"http://127.0.0.1:50929/\")"
   ]
  },
  {
   "cell_type": "code",
   "execution_count": 70,
   "metadata": {},
   "outputs": [
    {
     "data": {
      "text/plain": [
       "'{\"status\":\"OK\",\"service\":\"Descriptions_index_1-distilbert-base-nli-stsb-mean-tokens\"}'"
      ]
     },
     "execution_count": 70,
     "metadata": {},
     "output_type": "execute_result"
    }
   ],
   "source": [
    "r.text"
   ]
  },
  {
   "cell_type": "code",
   "execution_count": null,
   "metadata": {},
   "outputs": [],
   "source": [
    "r = requests.post(\"http://localhost:8000/collections/Descriptions index/query\", json=payload)"
   ]
  },
  {
   "cell_type": "code",
   "execution_count": 71,
   "metadata": {},
   "outputs": [],
   "source": [
    "r = requests.post(\"http://127.0.0.1:50929/query\", json={\"content\": [\"this is a test\"]})"
   ]
  },
  {
   "cell_type": "code",
   "execution_count": 72,
   "metadata": {},
   "outputs": [
    {
     "data": {
      "text/plain": [
       "'[{\"id\":76,\"version\":0,\"score\":0.18164691,\"payload\":{\"alt\":\"DePaul University -  education\",\"city\":\"Chicago\",\"description\":\"\",\"images\":\"https://d1qb2nb5cznatu.cloudfront.net/startups/i/112513-ded7f14a85d0b5f1a460cac43b9b55ca-thumb_jpg.jpg?buster=1408665351\",\"link\":\"http://www.depaul.edu/Pages/default.aspx\",\"name\":\"DePaul University\"},\"vector\":null},{\"id\":25,\"version\":0,\"score\":0.17403775,\"payload\":{\"alt\":\"Razorfish -  consulting\",\"city\":\"Chicago\",\"description\":\"\",\"images\":\"https://d1qb2nb5cznatu.cloudfront.net/startups/i/33524-bdfcb9fb20de0dcc3ae67ef5672e6389-thumb_jpg.jpg?buster=1326843723\",\"link\":\"http://www.razorfish.com\",\"name\":\"Razorfish\"},\"vector\":null},{\"id\":75,\"version\":0,\"score\":0.16349642,\"payload\":{\"alt\":\"BenchPrep -  mobile education analytics game mechanics\",\"city\":\"Chicago\",\"description\":\"Exam Prep Platform: iTunes of exam prep.\\\\nBenchPrep is a learning platform that helps students study for any exam on any device (computers (web), iPhone, iPad, and Android).\\\\nBenchPrep courses are interactive, adaptive & social.\\\\nBenchPrep partners with the biggest publishers including McGraw Hill and ...\",\"images\":\"https://d1qb2nb5cznatu.cloudfront.net/startups/i/80315-632f43f8e7b19cf1130058907694bb41-thumb_jpg.jpg?buster=1333389792\",\"link\":\"http://www.benchprep.com\",\"name\":\"BenchPrep\"},\"vector\":null},{\"id\":8,\"version\":0,\"score\":0.09855504,\"payload\":{\"alt\":\"The Boeing Company -  manufacturing transportation\",\"city\":\"Chicago\",\"description\":\"\",\"images\":\"https://d1qb2nb5cznatu.cloudfront.net/startups/i/49394-df6be7a1eca80e8e73cc6699fee4f772-thumb_jpg.jpg?buster=1406172049\",\"link\":\"http://www.boeing.com\",\"name\":\"The Boeing Company\"},\"vector\":null},{\"id\":26,\"version\":0,\"score\":0.09231129,\"payload\":{\"alt\":\"Classkick -  k 12 education Higher Education\",\"city\":\"Chicago\",\"description\":\"Students Learn Together\\\\nNumbers\\\\n- Launched fall 2014\\\\n- 150K downloads\\\\n- Average 30% wk/wk growth\\\\n- 50 states / 70 countries\\\\n- 45K questions answered/week\\\\n- Engine of growth: 65% of signups are word-of-mouth, 100% are organic, $0 spent marketing\\\\nCreated by teachers and engineers, Classkick ...\",\"images\":\"https://d1qb2nb5cznatu.cloudfront.net/startups/i/511338-4b5dc4a90922f53e0e816ef5c67c50c5-thumb_jpg.jpg?buster=1413389520\",\"link\":\"http://getclasskick.com\",\"name\":\"Classkick\"},\"vector\":null}]'"
      ]
     },
     "execution_count": 72,
     "metadata": {},
     "output_type": "execute_result"
    }
   ],
   "source": [
    "r.text"
   ]
  },
  {
   "cell_type": "code",
   "execution_count": 58,
   "metadata": {},
   "outputs": [],
   "source": [
    "con = docker_cli.containers.get(\"78d58589176b\")"
   ]
  },
  {
   "cell_type": "code",
   "execution_count": 59,
   "metadata": {},
   "outputs": [
    {
     "data": {
      "text/plain": [
       "b'2022-09-01 04:34:25.104 | INFO     | __main__:<module>:4 - Starting\\n'"
      ]
     },
     "execution_count": 59,
     "metadata": {},
     "output_type": "execute_result"
    }
   ],
   "source": [
    "con.logs()"
   ]
  },
  {
   "cell_type": "code",
   "execution_count": 19,
   "metadata": {},
   "outputs": [
    {
     "ename": "NameError",
     "evalue": "name 'docker_cli' is not defined",
     "output_type": "error",
     "traceback": [
      "\u001b[0;31m---------------------------------------------------------------------------\u001b[0m",
      "\u001b[0;31mNameError\u001b[0m                                 Traceback (most recent call last)",
      "\u001b[1;32m/Users/y.almutairi/Desktop/Workspace/InCoder/test.ipynb Cell 58\u001b[0m in \u001b[0;36m<cell line: 1>\u001b[0;34m()\u001b[0m\n\u001b[0;32m----> <a href='vscode-notebook-cell:/Users/y.almutairi/Desktop/Workspace/InCoder/test.ipynb#Y111sZmlsZQ%3D%3D?line=0'>1</a>\u001b[0m docker_cli\u001b[39m.\u001b[39mapi\u001b[39m.\u001b[39minfo()\n",
      "\u001b[0;31mNameError\u001b[0m: name 'docker_cli' is not defined"
     ]
    }
   ],
   "source": [
    "docker_cli.api.info()"
   ]
  },
  {
   "cell_type": "code",
   "execution_count": 22,
   "metadata": {},
   "outputs": [
    {
     "data": {
      "text/plain": [
       "{'ID': 'BCFC:AEUA:NNJJ:QOBR:M7CZ:XHRF:7XGM:LCMD:XJPE:YKCJ:YYNH:G5TQ',\n",
       " 'Containers': 1,\n",
       " 'ContainersRunning': 1,\n",
       " 'ContainersPaused': 0,\n",
       " 'ContainersStopped': 0,\n",
       " 'Images': 19,\n",
       " 'Driver': 'overlay2',\n",
       " 'DriverStatus': [['Backing Filesystem', 'extfs'],\n",
       "  ['Supports d_type', 'true'],\n",
       "  ['Native Overlay Diff', 'true'],\n",
       "  ['userxattr', 'false']],\n",
       " 'Plugins': {'Volume': ['local'],\n",
       "  'Network': ['bridge', 'host', 'ipvlan', 'macvlan', 'null', 'overlay'],\n",
       "  'Authorization': None,\n",
       "  'Log': ['awslogs',\n",
       "   'fluentd',\n",
       "   'gcplogs',\n",
       "   'gelf',\n",
       "   'journald',\n",
       "   'json-file',\n",
       "   'local',\n",
       "   'logentries',\n",
       "   'splunk',\n",
       "   'syslog']},\n",
       " 'MemoryLimit': True,\n",
       " 'SwapLimit': True,\n",
       " 'KernelMemory': False,\n",
       " 'KernelMemoryTCP': False,\n",
       " 'CpuCfsPeriod': True,\n",
       " 'CpuCfsQuota': True,\n",
       " 'CPUShares': True,\n",
       " 'CPUSet': True,\n",
       " 'PidsLimit': True,\n",
       " 'IPv4Forwarding': True,\n",
       " 'BridgeNfIptables': True,\n",
       " 'BridgeNfIp6tables': True,\n",
       " 'Debug': False,\n",
       " 'NFd': 57,\n",
       " 'OomKillDisable': False,\n",
       " 'NGoroutines': 63,\n",
       " 'SystemTime': '2022-09-01T02:34:54.579316435Z',\n",
       " 'LoggingDriver': 'json-file',\n",
       " 'CgroupDriver': 'cgroupfs',\n",
       " 'CgroupVersion': '2',\n",
       " 'NEventsListener': 5,\n",
       " 'KernelVersion': '5.10.104-linuxkit',\n",
       " 'OperatingSystem': 'Docker Desktop',\n",
       " 'OSVersion': '',\n",
       " 'OSType': 'linux',\n",
       " 'Architecture': 'x86_64',\n",
       " 'IndexServerAddress': 'https://index.docker.io/v1/',\n",
       " 'RegistryConfig': {'AllowNondistributableArtifactsCIDRs': [],\n",
       "  'AllowNondistributableArtifactsHostnames': [],\n",
       "  'InsecureRegistryCIDRs': ['127.0.0.0/8'],\n",
       "  'IndexConfigs': {'docker.io': {'Name': 'docker.io',\n",
       "    'Mirrors': [],\n",
       "    'Secure': True,\n",
       "    'Official': True},\n",
       "   'hubproxy.docker.internal:5000': {'Name': 'hubproxy.docker.internal:5000',\n",
       "    'Mirrors': [],\n",
       "    'Secure': False,\n",
       "    'Official': False}},\n",
       "  'Mirrors': []},\n",
       " 'NCPU': 4,\n",
       " 'MemTotal': 4125417472,\n",
       " 'GenericResources': None,\n",
       " 'DockerRootDir': '/var/lib/docker',\n",
       " 'HttpProxy': 'http.docker.internal:3128',\n",
       " 'HttpsProxy': 'http.docker.internal:3128',\n",
       " 'NoProxy': 'hubproxy.docker.internal',\n",
       " 'Name': 'docker-desktop',\n",
       " 'Labels': [],\n",
       " 'ExperimentalBuild': False,\n",
       " 'ServerVersion': '20.10.16',\n",
       " 'Runtimes': {'io.containerd.runc.v2': {'path': 'runc'},\n",
       "  'io.containerd.runtime.v1.linux': {'path': 'runc'},\n",
       "  'runc': {'path': 'runc'}},\n",
       " 'DefaultRuntime': 'runc',\n",
       " 'Swarm': {'NodeID': '',\n",
       "  'NodeAddr': '',\n",
       "  'LocalNodeState': 'inactive',\n",
       "  'ControlAvailable': False,\n",
       "  'Error': '',\n",
       "  'RemoteManagers': None},\n",
       " 'LiveRestoreEnabled': False,\n",
       " 'Isolation': '',\n",
       " 'InitBinary': 'docker-init',\n",
       " 'ContainerdCommit': {'ID': '212e8b6fa2f44b9c21b2798135fc6fb7c53efc16',\n",
       "  'Expected': '212e8b6fa2f44b9c21b2798135fc6fb7c53efc16'},\n",
       " 'RuncCommit': {'ID': 'v1.1.1-0-g52de29d', 'Expected': 'v1.1.1-0-g52de29d'},\n",
       " 'InitCommit': {'ID': 'de40ad0', 'Expected': 'de40ad0'},\n",
       " 'SecurityOptions': ['name=seccomp,profile=default', 'name=cgroupns'],\n",
       " 'Warnings': None}"
      ]
     },
     "execution_count": 22,
     "metadata": {},
     "output_type": "execute_result"
    }
   ],
   "source": [
    "docker_cli.info()"
   ]
  },
  {
   "cell_type": "code",
   "execution_count": 199,
   "metadata": {},
   "outputs": [
    {
     "data": {
      "text/plain": [
       "<_io.BytesIO at 0x128340ae0>"
      ]
     },
     "execution_count": 199,
     "metadata": {},
     "output_type": "execute_result"
    }
   ],
   "source": [
    "f"
   ]
  },
  {
   "cell_type": "code",
   "execution_count": 241,
   "metadata": {},
   "outputs": [
    {
     "ename": "AttributeError",
     "evalue": "'_io.TextIOWrapper' object has no attribute 'getvalue'",
     "output_type": "error",
     "traceback": [
      "\u001b[0;31m---------------------------------------------------------------------------\u001b[0m",
      "\u001b[0;31mAttributeError\u001b[0m                            Traceback (most recent call last)",
      "\u001b[1;32m/Users/y.almutairi/Desktop/Workspace/InCoder/test.ipynb Cell 42\u001b[0m in \u001b[0;36m<cell line: 1>\u001b[0;34m()\u001b[0m\n\u001b[0;32m----> <a href='vscode-notebook-cell:/Users/y.almutairi/Desktop/Workspace/InCoder/test.ipynb#Y104sZmlsZQ%3D%3D?line=0'>1</a>\u001b[0m f\u001b[39m.\u001b[39;49mgetvalue()\n",
      "\u001b[0;31mAttributeError\u001b[0m: '_io.TextIOWrapper' object has no attribute 'getvalue'"
     ]
    }
   ],
   "source": [
    "f.getvalue()"
   ]
  },
  {
   "cell_type": "code",
   "execution_count": 186,
   "metadata": {},
   "outputs": [
    {
     "data": {
      "text/plain": [
       "b'FROM python:3-slim\\nWORKDIR /app\\nCOPY requirements.txt ./\\nCOPY config.py ./\\nCOPY api.py ./\\nCOPY encoder.py ./\\nRUN pip install --no-cache-dir -r requirements.txt\\n\\nCMD [\"python\", \"api.py\"]'"
      ]
     },
     "execution_count": 186,
     "metadata": {},
     "output_type": "execute_result"
    }
   ],
   "source": [
    "f.getvalue()"
   ]
  },
  {
   "cell_type": "code",
   "execution_count": 251,
   "metadata": {},
   "outputs": [],
   "source": [
    "img, buildg = docker_cli.images.build(dockerfile='/Users/y.almutairi/Desktop/Workspace/InCoder/dockerfile/dockerfile', rm=True, path='/Users/y.almutairi/Desktop/Workspace/InCoder/shared', tag='encoder:test1')"
   ]
  },
  {
   "cell_type": "code",
   "execution_count": 236,
   "metadata": {},
   "outputs": [
    {
     "ename": "StopIteration",
     "evalue": "",
     "output_type": "error",
     "traceback": [
      "\u001b[0;31m---------------------------------------------------------------------------\u001b[0m",
      "\u001b[0;31mStopIteration\u001b[0m                             Traceback (most recent call last)",
      "\u001b[1;32m/Users/y.almutairi/Desktop/Workspace/InCoder/test.ipynb Cell 45\u001b[0m in \u001b[0;36m<cell line: 1>\u001b[0;34m()\u001b[0m\n\u001b[0;32m----> <a href='vscode-notebook-cell:/Users/y.almutairi/Desktop/Workspace/InCoder/test.ipynb#Y122sZmlsZQ%3D%3D?line=0'>1</a>\u001b[0m \u001b[39mnext\u001b[39;49m(buildg)\n",
      "\u001b[0;31mStopIteration\u001b[0m: "
     ]
    }
   ],
   "source": [
    "next(buildg)"
   ]
  },
  {
   "cell_type": "code",
   "execution_count": 3,
   "metadata": {},
   "outputs": [],
   "source": [
    "from pathlib import Path"
   ]
  },
  {
   "cell_type": "code",
   "execution_count": 5,
   "metadata": {},
   "outputs": [
    {
     "data": {
      "text/plain": [
       "PosixPath('/Users/y.almutairi/Desktop/Workspace/InCoder/shared')"
      ]
     },
     "execution_count": 5,
     "metadata": {},
     "output_type": "execute_result"
    }
   ],
   "source": [
    "Path().cwd() / 'shared'"
   ]
  },
  {
   "cell_type": "code",
   "execution_count": 178,
   "metadata": {},
   "outputs": [
    {
     "data": {
      "text/plain": [
       "'sha256:9c941f2f9641eccad94b601a0746ac7315b93ce7db9d21c246a1231b998a721c'"
      ]
     },
     "execution_count": 178,
     "metadata": {},
     "output_type": "execute_result"
    }
   ],
   "source": [
    "img.id"
   ]
  },
  {
   "cell_type": "code",
   "execution_count": 2,
   "metadata": {},
   "outputs": [
    {
     "ename": "NameError",
     "evalue": "name 'img' is not defined",
     "output_type": "error",
     "traceback": [
      "\u001b[0;31m---------------------------------------------------------------------------\u001b[0m",
      "\u001b[0;31mNameError\u001b[0m                                 Traceback (most recent call last)",
      "\u001b[1;32m/Users/y.almutairi/Desktop/Workspace/InCoder/test.ipynb Cell 49\u001b[0m in \u001b[0;36m<cell line: 1>\u001b[0;34m()\u001b[0m\n\u001b[0;32m----> <a href='vscode-notebook-cell:/Users/y.almutairi/Desktop/Workspace/InCoder/test.ipynb#X66sZmlsZQ%3D%3D?line=0'>1</a>\u001b[0m img\u001b[39m.\u001b[39mtags[\u001b[39m0\u001b[39m]\n",
      "\u001b[0;31mNameError\u001b[0m: name 'img' is not defined"
     ]
    }
   ],
   "source": [
    "img.tags[0]"
   ]
  },
  {
   "cell_type": "code",
   "execution_count": 256,
   "metadata": {},
   "outputs": [],
   "source": [
    "cont = docker_cli.containers.run(img.tags[0], detach=True, name='test1', volumes={'/Users/y.almutairi/Desktop/Workspace/InCoder/shared/onnx/Descriptions index/': {'bind': '/app/onnx/', 'mode': 'ro'}})"
   ]
  },
  {
   "cell_type": "code",
   "execution_count": 180,
   "metadata": {},
   "outputs": [
    {
     "data": {
      "text/plain": [
       "<Container: e9800225cbdd>"
      ]
     },
     "execution_count": 180,
     "metadata": {},
     "output_type": "execute_result"
    }
   ],
   "source": [
    "cont"
   ]
  },
  {
   "cell_type": "code",
   "execution_count": 138,
   "metadata": {},
   "outputs": [],
   "source": [
    "response = [line for line in docker_cli.build(dockerfile='/Users/y.almutairi/Desktop/Workspace/InCoder/dockerfile/dockerfile', rm=True, path='/Users/y.almutairi/Desktop/Workspace/InCoder/shared', tag='encoder:test')]"
   ]
  },
  {
   "cell_type": "code",
   "execution_count": 1,
   "metadata": {},
   "outputs": [
    {
     "ename": "NameError",
     "evalue": "name 'docker_cli' is not defined",
     "output_type": "error",
     "traceback": [
      "\u001b[0;31m---------------------------------------------------------------------------\u001b[0m",
      "\u001b[0;31mNameError\u001b[0m                                 Traceback (most recent call last)",
      "\u001b[1;32m/Users/y.almutairi/Desktop/Workspace/InCoder/test.ipynb Cell 53\u001b[0m in \u001b[0;36m<cell line: 1>\u001b[0;34m()\u001b[0m\n\u001b[0;32m----> <a href='vscode-notebook-cell:/Users/y.almutairi/Desktop/Workspace/InCoder/test.ipynb#Y103sZmlsZQ%3D%3D?line=0'>1</a>\u001b[0m docker_cli\n",
      "\u001b[0;31mNameError\u001b[0m: name 'docker_cli' is not defined"
     ]
    }
   ],
   "source": [
    "docker_cli"
   ]
  },
  {
   "cell_type": "code",
   "execution_count": 181,
   "metadata": {},
   "outputs": [
    {
     "data": {
      "text/plain": [
       "{'message': 'accepted'}"
      ]
     },
     "execution_count": 181,
     "metadata": {},
     "output_type": "execute_result"
    }
   ],
   "source": [
    "requests.put(\"http://localhost:8000/onnx/upload\",\n",
    "data={\"collection_name\": \"Descriptions index 0\", \"vector_size\": vector_size} ,\n",
    "files=files).json()"
   ]
  },
  {
   "cell_type": "code",
   "execution_count": 131,
   "metadata": {},
   "outputs": [
    {
     "ename": "SyntaxError",
     "evalue": "expression cannot contain assignment, perhaps you meant \"==\"? (1534636800.py, line 1)",
     "output_type": "error",
     "traceback": [
      "\u001b[0;36m  Input \u001b[0;32mIn [131]\u001b[0;36m\u001b[0m\n\u001b[0;31m    requests.post(\"http://localhost:8000/collections/create\"=payload).json()\u001b[0m\n\u001b[0m                  ^\u001b[0m\n\u001b[0;31mSyntaxError\u001b[0m\u001b[0;31m:\u001b[0m expression cannot contain assignment, perhaps you meant \"==\"?\n"
     ]
    }
   ],
   "source": [
    "requests.post(\"http://localhost:8000/collections/create\"=payload).json()"
   ]
  },
  {
   "cell_type": "code",
   "execution_count": 3,
   "metadata": {},
   "outputs": [
    {
     "name": "stderr",
     "output_type": "stream",
     "text": [
      "/Users/y.almutairi/Desktop/Workspace/InCoder/venv/lib/python3.9/site-packages/tqdm/auto.py:22: TqdmWarning: IProgress not found. Please update jupyter and ipywidgets. See https://ipywidgets.readthedocs.io/en/stable/user_install.html\n",
      "  from .autonotebook import tqdm as notebook_tqdm\n"
     ]
    }
   ],
   "source": [
    "# Super Resolution model definition in PyTorch\n",
    "import torch.nn as nn\n",
    "import torch.nn.init as init\n",
    "\n",
    "\n",
    "class SuperResolutionNet(nn.Module):\n",
    "    def __init__(self, upscale_factor, inplace=False):\n",
    "        super(SuperResolutionNet, self).__init__()\n",
    "\n",
    "        self.relu = nn.ReLU(inplace=inplace)\n",
    "        self.conv1 = nn.Conv2d(1, 64, (5, 5), (1, 1), (2, 2))\n",
    "        self.conv2 = nn.Conv2d(64, 64, (3, 3), (1, 1), (1, 1))\n",
    "        self.conv3 = nn.Conv2d(64, 32, (3, 3), (1, 1), (1, 1))\n",
    "        self.conv4 = nn.Conv2d(32, upscale_factor ** 2, (3, 3), (1, 1), (1, 1))\n",
    "        self.pixel_shuffle = nn.PixelShuffle(upscale_factor)\n",
    "\n",
    "        self._initialize_weights()\n",
    "\n",
    "    def forward(self, x):\n",
    "        x = self.relu(self.conv1(x))\n",
    "        x = self.relu(self.conv2(x))\n",
    "        x = self.relu(self.conv3(x))\n",
    "        x = self.pixel_shuffle(self.conv4(x))\n",
    "        return x\n",
    "\n",
    "    def _initialize_weights(self):\n",
    "        init.orthogonal_(self.conv1.weight, init.calculate_gain('relu'))\n",
    "        init.orthogonal_(self.conv2.weight, init.calculate_gain('relu'))\n",
    "        init.orthogonal_(self.conv3.weight, init.calculate_gain('relu'))\n",
    "        init.orthogonal_(self.conv4.weight)\n",
    "\n",
    "# Create the super-resolution model by using the above model definition.\n",
    "torch_model = SuperResolutionNet(upscale_factor=3)"
   ]
  },
  {
   "cell_type": "code",
   "execution_count": 4,
   "metadata": {},
   "outputs": [],
   "source": [
    "# Some standard imports\n",
    "import io\n",
    "import numpy as np\n",
    "\n",
    "from torch import nn\n",
    "import torch.utils.model_zoo as model_zoo\n",
    "import torch.onnx"
   ]
  },
  {
   "cell_type": "code",
   "execution_count": 5,
   "metadata": {},
   "outputs": [
    {
     "data": {
      "text/plain": [
       "SuperResolutionNet(\n",
       "  (relu): ReLU()\n",
       "  (conv1): Conv2d(1, 64, kernel_size=(5, 5), stride=(1, 1), padding=(2, 2))\n",
       "  (conv2): Conv2d(64, 64, kernel_size=(3, 3), stride=(1, 1), padding=(1, 1))\n",
       "  (conv3): Conv2d(64, 32, kernel_size=(3, 3), stride=(1, 1), padding=(1, 1))\n",
       "  (conv4): Conv2d(32, 9, kernel_size=(3, 3), stride=(1, 1), padding=(1, 1))\n",
       "  (pixel_shuffle): PixelShuffle(upscale_factor=3)\n",
       ")"
      ]
     },
     "execution_count": 5,
     "metadata": {},
     "output_type": "execute_result"
    }
   ],
   "source": [
    "# Load pretrained model weights\n",
    "model_url = 'https://s3.amazonaws.com/pytorch/test_data/export/superres_epoch100-44c6958e.pth'\n",
    "batch_size = 1    # just a random number\n",
    "\n",
    "# Initialize model with the pretrained weights\n",
    "map_location = lambda storage, loc: storage\n",
    "if torch.cuda.is_available():\n",
    "    map_location = None\n",
    "torch_model.load_state_dict(model_zoo.load_url(model_url, map_location=map_location))\n",
    "\n",
    "# set the model to inference mode\n",
    "torch_model.eval()"
   ]
  },
  {
   "cell_type": "code",
   "execution_count": 6,
   "metadata": {},
   "outputs": [
    {
     "ename": "NameError",
     "evalue": "name 'x' is not defined",
     "output_type": "error",
     "traceback": [
      "\u001b[0;31m---------------------------------------------------------------------------\u001b[0m",
      "\u001b[0;31mNameError\u001b[0m                                 Traceback (most recent call last)",
      "\u001b[1;32m/Users/y.almutairi/Desktop/Workspace/InCoder/test.ipynb Cell 78\u001b[0m in \u001b[0;36m<cell line: 1>\u001b[0;34m()\u001b[0m\n\u001b[0;32m----> <a href='vscode-notebook-cell:/Users/y.almutairi/Desktop/Workspace/InCoder/test.ipynb#Y140sZmlsZQ%3D%3D?line=0'>1</a>\u001b[0m x\u001b[39m.\u001b[39msize()\n",
      "\u001b[0;31mNameError\u001b[0m: name 'x' is not defined"
     ]
    }
   ],
   "source": [
    "x.size()"
   ]
  },
  {
   "cell_type": "code",
   "execution_count": 1,
   "metadata": {},
   "outputs": [],
   "source": [
    "from io import BytesIO"
   ]
  },
  {
   "cell_type": "code",
   "execution_count": 2,
   "metadata": {},
   "outputs": [],
   "source": [
    "f_ = BytesIO()"
   ]
  },
  {
   "cell_type": "code",
   "execution_count": 71,
   "metadata": {},
   "outputs": [],
   "source": [
    "x1 = x.tolist()"
   ]
  },
  {
   "cell_type": "code",
   "execution_count": 72,
   "metadata": {},
   "outputs": [
    {
     "data": {
      "text/plain": [
       "torch.Size([1, 1, 224, 224])"
      ]
     },
     "execution_count": 72,
     "metadata": {},
     "output_type": "execute_result"
    }
   ],
   "source": [
    "x.shape"
   ]
  },
  {
   "cell_type": "code",
   "execution_count": 73,
   "metadata": {},
   "outputs": [],
   "source": [
    "x1 = np.array(x1)"
   ]
  },
  {
   "cell_type": "code",
   "execution_count": 74,
   "metadata": {},
   "outputs": [
    {
     "data": {
      "text/plain": [
       "(1, 1, 224, 224)"
      ]
     },
     "execution_count": 74,
     "metadata": {},
     "output_type": "execute_result"
    }
   ],
   "source": [
    "x1.shape"
   ]
  },
  {
   "cell_type": "code",
   "execution_count": 75,
   "metadata": {},
   "outputs": [],
   "source": [
    "from sentence_transformers import SentenceTransformer"
   ]
  },
  {
   "cell_type": "code",
   "execution_count": null,
   "metadata": {},
   "outputs": [],
   "source": [
    "SentenceTransformer."
   ]
  },
  {
   "cell_type": "code",
   "execution_count": 114,
   "metadata": {},
   "outputs": [
    {
     "name": "stderr",
     "output_type": "stream",
     "text": [
      "Downloading: 100%|██████████| 690/690 [00:00<00:00, 140kB/s]\n",
      "Downloading: 100%|██████████| 190/190 [00:00<00:00, 55.0kB/s]\n",
      "Downloading: 100%|██████████| 3.69k/3.69k [00:00<00:00, 680kB/s]\n",
      "Downloading: 100%|██████████| 540/540 [00:00<00:00, 110kB/s]\n",
      "Downloading: 100%|██████████| 122/122 [00:00<00:00, 25.3kB/s]\n",
      "Downloading: 100%|██████████| 265M/265M [01:20<00:00, 3.29MB/s] \n",
      "Downloading: 100%|██████████| 53.0/53.0 [00:00<00:00, 13.6kB/s]\n",
      "Downloading: 100%|██████████| 112/112 [00:00<00:00, 27.6kB/s]\n",
      "Downloading: 100%|██████████| 466k/466k [00:04<00:00, 113kB/s]  \n",
      "Downloading: 100%|██████████| 554/554 [00:00<00:00, 129kB/s]\n",
      "Downloading: 100%|██████████| 232k/232k [00:00<00:00, 325kB/s]  \n",
      "Downloading: 100%|██████████| 229/229 [00:00<00:00, 52.3kB/s]\n"
     ]
    }
   ],
   "source": [
    "model = SentenceTransformer('nq-distilbert-base-v1')"
   ]
  },
  {
   "cell_type": "code",
   "execution_count": 116,
   "metadata": {},
   "outputs": [
    {
     "data": {
      "text/plain": [
       "768"
      ]
     },
     "execution_count": 116,
     "metadata": {},
     "output_type": "execute_result"
    }
   ],
   "source": [
    "model.encode(\"this is a test\").size"
   ]
  },
  {
   "cell_type": "code",
   "execution_count": 112,
   "metadata": {},
   "outputs": [
    {
     "data": {
      "text/plain": [
       "<bound method SentenceTransformer.tokenize of SentenceTransformer(\n",
       "  (0): Transformer({'max_seq_length': 128, 'do_lower_case': False}) with Transformer model: DistilBertModel \n",
       "  (1): Pooling({'word_embedding_dimension': 768, 'pooling_mode_cls_token': False, 'pooling_mode_mean_tokens': True, 'pooling_mode_max_tokens': False, 'pooling_mode_mean_sqrt_len_tokens': False})\n",
       ")>"
      ]
     },
     "execution_count": 112,
     "metadata": {},
     "output_type": "execute_result"
    }
   ],
   "source": [
    "model."
   ]
  },
  {
   "cell_type": "code",
   "execution_count": 104,
   "metadata": {},
   "outputs": [],
   "source": [
    "import torch\n",
    "import transformers\n",
    "from sentence_transformers import SentenceTransformer\n",
    "\n",
    "# credit to https://github.com/UKPLab/sentence-transformers/issues/46\n",
    "class OnnxEncoder:\n",
    "    \"\"\"OnxEncoder dedicated to run SentenceTransformer under OnnxRuntime.\"\"\"\n",
    "\n",
    "    def __init__(self, session, tokenizer, pooling, normalization):\n",
    "        self.session = session\n",
    "        self.tokenizer = tokenizer\n",
    "        self.max_length = tokenizer.__dict__[\"model_max_length\"]\n",
    "        self.pooling = pooling\n",
    "        self.normalization = normalization\n",
    "\n",
    "    def encode(self, sentences: list):\n",
    "\n",
    "        sentences = [sentences] if isinstance(sentences, str) else sentences\n",
    "\n",
    "        inputs = {\n",
    "            k: v.numpy()\n",
    "            for k, v in self.tokenizer(\n",
    "                sentences,\n",
    "                padding=True,\n",
    "                truncation=True,\n",
    "                max_length=self.max_length,\n",
    "                return_tensors=\"pt\",\n",
    "            ).items()\n",
    "        }\n",
    "\n",
    "        hidden_state = self.session.run(None, inputs)\n",
    "        sentence_embedding = self.pooling.forward(\n",
    "            features={\n",
    "                \"token_embeddings\": torch.Tensor(hidden_state[0]),\n",
    "                \"attention_mask\": torch.Tensor(inputs.get(\"attention_mask\")),\n",
    "            },\n",
    "        )\n",
    "\n",
    "        if self.normalization is not None:\n",
    "            sentence_embedding = self.normalization.forward(features=sentence_embedding)\n",
    "\n",
    "        sentence_embedding = sentence_embedding[\"sentence_embedding\"]\n",
    "\n",
    "        if sentence_embedding.shape[0] == 1:\n",
    "            sentence_embedding = sentence_embedding[0]\n",
    "\n",
    "        return sentence_embedding.numpy()\n",
    "\n",
    "\n",
    "def sentence_transformers_onnx(\n",
    "    model,\n",
    "    path,\n",
    "    do_lower_case=True,\n",
    "    input_names=[\"input_ids\", \"attention_mask\", \"segment_ids\"],\n",
    "    providers=[\"CPUExecutionProvider\"],\n",
    "):\n",
    "    \"\"\"OnxRuntime for sentence transformers.\n",
    "\n",
    "    Parameters\n",
    "    ----------\n",
    "    model\n",
    "        SentenceTransformer model.\n",
    "    path\n",
    "        Model file dedicated to session inference.\n",
    "    do_lower_case\n",
    "        Either or not the model is cased.\n",
    "    input_names\n",
    "        Fields needed by the Transformer.\n",
    "    providers\n",
    "        Either run the model on CPU or GPU: [\"CPUExecutionProvider\", \"CUDAExecutionProvider\"].\n",
    "\n",
    "    \"\"\"\n",
    "    try:\n",
    "        import onnxruntime\n",
    "    except:\n",
    "        raise ValueError(\"You need to install onnxruntime.\")\n",
    "\n",
    "    model.save(path)\n",
    "\n",
    "    configuration = transformers.AutoConfig.from_pretrained(\n",
    "        path, from_tf=False, local_files_only=True\n",
    "    )\n",
    "\n",
    "    tokenizer = transformers.AutoTokenizer.from_pretrained(\n",
    "        path, do_lower_case=do_lower_case, from_tf=False, local_files_only=True\n",
    "    )\n",
    "\n",
    "    encoder = transformers.AutoModel.from_pretrained(\n",
    "        path, from_tf=False, config=configuration, local_files_only=True\n",
    "    )\n",
    "\n",
    "    st = [\"cherche\"]\n",
    "    \n",
    "    inputs = tokenizer(\n",
    "        st,\n",
    "        padding=True,\n",
    "        truncation=True,\n",
    "        max_length=tokenizer.__dict__[\"model_max_length\"],\n",
    "        return_tensors=\"pt\",\n",
    "    )\n",
    "\n",
    "    model.eval()\n",
    "\n",
    "    with torch.no_grad():\n",
    "\n",
    "        symbolic_names = {0: \"batch_size\", 1: \"max_seq_len\"}\n",
    "\n",
    "        torch.onnx.export(\n",
    "            encoder,\n",
    "            args=tuple(inputs.values()),\n",
    "            f=f\"{path}.onx\",\n",
    "            opset_version=13,  # ONX version needs to be >= 13 for sentence transformers.\n",
    "            do_constant_folding=True,\n",
    "            input_names=input_names,\n",
    "            dynamic_axes={\n",
    "                \"input_ids\": symbolic_names,\n",
    "                \"attention_mask\": symbolic_names,\n",
    "                \"segment_ids\": symbolic_names,\n",
    "                \"start\": symbolic_names,\n",
    "                \"end\": symbolic_names,\n",
    "            },\n",
    "        )\n",
    "\n",
    "        normalization = None\n",
    "        for modules in model.modules():\n",
    "            for idx, module in enumerate(modules):\n",
    "                if idx == 1:\n",
    "                    pooling = module\n",
    "                if idx == 2:\n",
    "                    normalization = module\n",
    "            break\n",
    "\n",
    "        return OnnxEncoder(\n",
    "            session=onnxruntime.InferenceSession(f\"{path}.onx\", providers=providers),\n",
    "            tokenizer=tokenizer,\n",
    "            pooling=pooling,\n",
    "            normalization=normalization,\n",
    "        )"
   ]
  },
  {
   "cell_type": "code",
   "execution_count": 118,
   "metadata": {},
   "outputs": [
    {
     "name": "stderr",
     "output_type": "stream",
     "text": [
      "/Users/y.almutairi/Desktop/Workspace/InCoder/venv/lib/python3.9/site-packages/torch/onnx/utils.py:1514: UserWarning: Provided key start for dynamic axes is not a valid input/output name\n",
      "  warnings.warn(\n",
      "/Users/y.almutairi/Desktop/Workspace/InCoder/venv/lib/python3.9/site-packages/torch/onnx/utils.py:1514: UserWarning: Provided key end for dynamic axes is not a valid input/output name\n",
      "  warnings.warn(\n",
      "/Users/y.almutairi/Desktop/Workspace/InCoder/venv/lib/python3.9/site-packages/transformers/models/distilbert/modeling_distilbert.py:215: TracerWarning: torch.tensor results are registered as constants in the trace. You can safely ignore this warning if you use this function to create tensors out of constant variables that would be the same every time you call this function. In any other case, this might cause the trace to be incorrect.\n",
      "  mask, torch.tensor(torch.finfo(scores.dtype).min)\n"
     ]
    }
   ],
   "source": [
    "model = sentence_transformers_onnx(\n",
    "    model = SentenceTransformer(\"distilbert-base-nli-stsb-mean-tokens\"),\n",
    "    path = \"./shared/onnx_model\",\n",
    ")"
   ]
  },
  {
   "cell_type": "code",
   "execution_count": 92,
   "metadata": {},
   "outputs": [],
   "source": [
    "model1 = SentenceTransformer(\"distilbert-base-nli-stsb-mean-tokens\")"
   ]
  },
  {
   "cell_type": "code",
   "execution_count": 105,
   "metadata": {},
   "outputs": [
    {
     "data": {
      "text/plain": [
       "array([-2.18967393e-01, -6.13808334e-01, -1.09329678e-01,  2.07479298e-01,\n",
       "        1.32494405e-01, -5.60305536e-01,  9.65329885e-01,  1.86451659e-01,\n",
       "        5.11261940e-01, -8.41859400e-01, -1.52340129e-01, -4.09944266e-01,\n",
       "        1.28287780e+00, -3.51631314e-01, -5.33952534e-01, -6.21900678e-01,\n",
       "       -5.70780821e-02, -3.40401500e-01,  3.09996843e-01, -4.89590377e-01,\n",
       "        8.55742395e-01, -8.14266920e-01, -2.23278329e-01,  1.85696676e-01,\n",
       "        2.52426118e-01,  8.21361784e-03,  7.60177553e-01,  9.10186291e-01,\n",
       "       -1.36855066e-01,  7.92198852e-02,  4.53456134e-01, -4.44027394e-01,\n",
       "       -2.75650889e-01,  9.09205139e-01,  3.93605709e-01,  4.13937420e-02,\n",
       "       -1.39968082e-01,  5.77911258e-01, -1.64571866e-01, -6.26608670e-01,\n",
       "       -9.60694626e-02, -2.42216170e-01,  3.86811167e-01, -5.45474708e-01,\n",
       "       -8.51154983e-01, -3.76286507e-01, -8.91536057e-01,  4.36458617e-01,\n",
       "       -9.48158026e-01,  3.42605114e-01,  3.93549614e-02,  8.22608173e-01,\n",
       "       -5.92901170e-01, -5.52746415e-01, -8.53572130e-01, -2.97077149e-01,\n",
       "       -9.45620239e-01,  1.53528944e-01, -5.95856190e-01,  6.68840647e-01,\n",
       "       -8.17885473e-02, -1.54051289e-01, -1.85683236e-01, -3.96751553e-01,\n",
       "        1.18661690e+00,  2.48972122e-02, -1.04003502e-02,  1.05238505e-01,\n",
       "        2.50612825e-01, -6.81685746e-01, -2.51256078e-01, -2.01722130e-01,\n",
       "       -3.98489051e-02, -1.27116084e+00, -1.93605140e-01, -2.32534543e-01,\n",
       "       -1.95312813e-01, -2.55529314e-01,  6.66578650e-01,  4.62442875e-01,\n",
       "       -1.74956936e-02, -1.21303713e+00, -1.27774104e-01, -4.63134080e-01,\n",
       "        6.56287849e-01, -3.98642212e-01,  5.97170353e-01,  5.84396608e-02,\n",
       "       -6.57313168e-01,  8.74008119e-01,  3.87478024e-01, -3.34188610e-01,\n",
       "       -7.65475929e-01, -1.01984513e+00, -1.10067748e-01, -8.06130111e-01,\n",
       "       -3.39637488e-01, -1.40703946e-01,  1.84429977e-02, -1.35437742e-01,\n",
       "       -4.09724593e-01, -8.58357430e-01,  5.34576237e-01,  1.79808259e-01,\n",
       "        1.25442493e+00,  3.93411189e-01,  2.26690948e-01, -1.70573756e-01,\n",
       "       -3.27655822e-01, -4.12645102e-01,  8.74175251e-01, -6.42623603e-01,\n",
       "       -1.13408409e-01,  2.43356541e-01, -5.06739080e-01,  8.82499933e-01,\n",
       "        9.15517151e-01,  3.99827920e-02, -2.73779720e-01,  8.27975750e-01,\n",
       "       -7.14638710e-01,  1.25617802e+00, -2.05634519e-01,  8.67674649e-01,\n",
       "        4.90603775e-01,  6.05796874e-01,  2.53910005e-01,  8.99425268e-01,\n",
       "        1.82460353e-01,  3.00173968e-01, -4.07450706e-01,  7.43438974e-02,\n",
       "        9.44528341e-01,  3.38367075e-02,  5.50368726e-01,  3.81561257e-02,\n",
       "        7.07240999e-01, -7.79127121e-01, -1.87498629e-01,  7.35416114e-02,\n",
       "        3.81677419e-01, -1.43803149e-01, -6.73243523e-01,  1.11436367e-01,\n",
       "        8.51554632e-01,  1.11125804e-01, -2.34022196e-02,  5.85301340e-01,\n",
       "        2.51586646e-01, -2.29175910e-01, -7.99897730e-01,  1.18350707e-01,\n",
       "        8.16735148e-04, -4.23114687e-01,  1.64642364e-01, -4.56412137e-02,\n",
       "       -2.53660023e-01, -5.43140531e-01, -1.35892963e+00,  6.37708187e-01,\n",
       "       -4.60978560e-02, -1.91350654e-01,  4.85214978e-01,  9.90054607e-01,\n",
       "       -5.44078529e-01,  1.34749442e-01,  4.19611931e-02,  6.99281693e-02,\n",
       "        5.86463623e-02,  2.58187771e-01,  3.20510983e-01, -2.47457907e-01,\n",
       "       -9.87128794e-01,  1.05744946e+00, -1.01128042e+00, -2.65509337e-01,\n",
       "       -5.70907295e-02, -9.18446720e-01,  7.65073776e-01, -6.31641895e-02,\n",
       "        2.05309987e-01,  2.19365358e-01, -4.51170713e-01,  4.91091996e-01,\n",
       "        2.82189827e-02,  9.38161984e-02,  4.43748623e-01, -5.58786333e-01,\n",
       "       -5.18042505e-01,  3.63245368e-01,  2.16398641e-01,  5.65906286e-01,\n",
       "       -4.78516929e-02,  2.72913575e-01,  8.03432941e-01,  3.54181767e-01,\n",
       "        3.39060903e-01, -8.65601897e-02, -5.54469943e-01, -5.48901975e-01,\n",
       "        9.10613596e-01,  7.81710625e-01,  2.89193898e-01, -2.07032874e-01,\n",
       "        3.81380357e-02,  4.29787010e-01,  1.20105350e+00,  5.63885450e-01,\n",
       "        6.72161579e-01, -4.04369384e-01,  3.26383084e-01, -1.15114950e-01,\n",
       "       -3.42031926e-01,  2.58368850e-01, -5.03128469e-01,  1.24345803e+00,\n",
       "       -2.09832862e-01, -3.48814934e-01,  9.64027882e-01, -1.74753860e-01,\n",
       "       -6.06806576e-01, -7.85267830e-01,  9.16133225e-01, -4.77292776e-01,\n",
       "       -5.90306938e-01, -9.79962572e-02, -2.86154240e-01,  1.83369055e-01,\n",
       "        2.67149359e-01, -7.10421145e-01, -2.59648830e-01, -1.75765023e-01,\n",
       "       -1.56949889e-02,  5.29402554e-01,  1.67184547e-01,  1.07205272e+00,\n",
       "        2.77901292e-02,  9.17362928e-01,  6.78987086e-01,  4.99751210e-01,\n",
       "        5.26198924e-01,  4.15158540e-01,  6.47588894e-02,  5.76768219e-01,\n",
       "        1.58315301e-01,  2.94227544e-02,  3.46267335e-02,  1.26873624e+00,\n",
       "       -1.26865312e-01, -1.60631105e-01, -2.64231801e-01, -1.70528814e-01,\n",
       "       -7.25604951e-01, -7.45223239e-02, -7.40051448e-01, -1.26970217e-01,\n",
       "       -1.49454391e+00, -5.77817738e-01,  9.96879861e-02,  2.08108366e-01,\n",
       "       -8.78164589e-01,  6.51570618e-01,  6.40725076e-01,  1.12343915e-01,\n",
       "       -3.98491859e-01, -4.85645682e-01, -7.78524458e-01,  1.69093862e-01,\n",
       "       -8.54829028e-02, -2.69861728e-01,  1.23216309e-01, -4.18391198e-01,\n",
       "        5.07864416e-01, -1.16907167e+00,  6.49040520e-01,  3.17341715e-01,\n",
       "       -3.72115642e-01,  7.19310105e-01, -5.21097481e-01,  2.48399377e-01,\n",
       "       -6.00880921e-01, -6.37321472e-02, -7.29145467e-01, -5.15848875e-01,\n",
       "        8.97706568e-01, -4.95245814e-01,  3.42591733e-01, -4.48242396e-01,\n",
       "       -6.06233299e-01, -2.55243748e-01, -6.30165040e-01,  1.14020228e+00,\n",
       "       -1.61019862e-01, -3.18786979e-01,  1.82330206e-01, -7.56733358e-01,\n",
       "        2.32018486e-01,  3.82315159e-01,  9.24582541e-01, -6.15882635e-01,\n",
       "        3.05288762e-01, -3.54357749e-01,  1.37183380e+00, -2.59516805e-01,\n",
       "        3.45707804e-01,  3.54832143e-01,  2.22517803e-01, -2.97884494e-01,\n",
       "       -1.02437162e+00, -5.12129724e-01,  1.20303690e+00,  8.47375393e-02,\n",
       "        7.06382215e-01,  4.83248681e-02, -3.88020664e-01,  7.35562265e-01,\n",
       "       -4.47627753e-01,  1.41501324e-02, -1.39396623e-01,  2.20657274e-01,\n",
       "       -1.81647241e-01,  6.91442430e-01,  4.83317763e-01, -7.48946488e-01,\n",
       "       -1.43783367e+00,  6.44560158e-02, -6.85500428e-02,  4.69259888e-01,\n",
       "       -3.43026400e-01, -2.70875931e-01,  1.36150494e-01,  4.16911654e-02,\n",
       "       -5.19885004e-01,  1.49238348e+00, -3.97455692e-01,  5.70529163e-01,\n",
       "       -9.13722336e-01,  3.39558274e-01,  2.33833179e-01, -6.48796618e-01,\n",
       "        5.22626340e-01, -6.16116822e-01,  4.82781023e-01,  5.70776999e-01,\n",
       "        4.59966511e-01, -9.75658119e-01, -1.02810276e+00, -2.87341505e-01,\n",
       "        7.55265713e-01, -7.76345253e-01,  1.62657484e-01,  1.62104324e-01,\n",
       "       -1.53156662e+00,  3.71000990e-02,  6.68880463e-01,  7.89279770e-03,\n",
       "       -2.44223103e-01, -1.01171911e+00, -7.60977924e-01,  2.92349368e-01,\n",
       "       -3.94526601e-01, -1.87376454e-01, -1.77485123e-01, -4.26956415e-02,\n",
       "       -4.27093863e-01,  5.11845529e-01,  2.47114196e-01,  9.04458016e-03,\n",
       "        1.61704645e-01, -1.08038163e+00, -3.70752364e-01,  2.67514676e-01,\n",
       "        8.46754491e-01, -9.51867342e-01,  6.64236307e-01, -6.44462824e-01,\n",
       "       -3.50272179e-01,  6.15392864e-01,  8.35841522e-02, -1.55768678e-01,\n",
       "       -3.61148119e-01, -4.38757271e-01, -5.36659062e-01, -5.05032539e-01,\n",
       "       -8.65243375e-04, -4.46460098e-01,  6.68502390e-01, -4.36987072e-01,\n",
       "       -6.62527680e-01,  9.82486963e-01, -1.80262461e-01, -4.09855656e-02,\n",
       "        1.02279973e+00, -3.06633532e-01,  9.57053483e-01,  8.29532921e-01,\n",
       "       -1.54632792e-01,  8.06344509e-01,  2.61091381e-01,  3.79530579e-01,\n",
       "        9.27112103e-01,  1.24180222e+00, -5.16596854e-01, -5.18993080e-01,\n",
       "        3.54180098e-01, -6.28718510e-02,  5.50010502e-02, -7.89649308e-01,\n",
       "        5.15864193e-01,  2.43909717e-01,  5.59447594e-02, -3.20957929e-01,\n",
       "        1.40060991e-01,  1.43538013e-01, -1.57553598e-01,  2.80708641e-01,\n",
       "       -1.95370510e-01,  1.51332900e-01,  4.01805639e-01, -1.40912071e-01,\n",
       "        2.71531612e-01,  1.31685007e+00, -4.23387140e-01, -2.72412095e-02,\n",
       "       -1.39515132e-01, -3.53944540e-01,  2.62049884e-01, -4.52831477e-01,\n",
       "        7.91296661e-01,  1.72015745e-02, -2.67553478e-02, -6.73309982e-01,\n",
       "       -1.87025368e+00, -1.86418355e-01,  2.54393935e-01, -5.85009575e-01,\n",
       "        8.61348927e-01, -1.87655434e-01, -7.89272308e-01,  1.25190604e+00,\n",
       "       -6.25068471e-02,  3.66099864e-01,  4.35627908e-01, -7.18490362e-01,\n",
       "       -9.93655384e-01,  1.61805734e-01,  5.81493616e-01, -4.26212221e-01,\n",
       "        8.92101005e-02, -2.41285160e-01,  4.34089899e-01,  3.27566236e-01,\n",
       "       -3.86197478e-01, -7.11928070e-01, -6.96259677e-01, -2.91948557e-01,\n",
       "       -4.17452097e-01,  3.98254544e-02,  1.21854889e+00,  6.39252901e-01,\n",
       "        7.66684294e-01,  7.27917373e-01, -1.11346543e+00,  3.37293029e-01,\n",
       "        3.06348830e-01, -2.15959325e-01,  1.76435232e-01,  1.00180812e-01,\n",
       "        2.82804757e-01,  4.78969902e-01, -4.09293979e-01, -3.05283666e-01,\n",
       "        2.43839622e-01, -7.77791500e-01,  1.04024179e-01,  5.10065854e-02,\n",
       "       -1.34633160e+00, -7.92291641e-01, -3.03115785e-01, -1.42025030e+00,\n",
       "       -1.92031920e-01,  3.93383950e-01, -4.10711288e-01,  3.13207626e-01,\n",
       "       -4.08756256e-01, -1.12455595e+00,  7.78053105e-01, -9.18650866e-01,\n",
       "        7.30004013e-01, -1.33595848e+00,  5.60297258e-02,  1.06373441e+00,\n",
       "        3.10470939e-01,  5.20207822e-01, -6.22425973e-01, -7.14802667e-02,\n",
       "        1.87063709e-01,  2.86346185e-03, -5.83561659e-01, -3.88924092e-01,\n",
       "        9.66019407e-02, -7.65328556e-02, -1.25601757e+00,  5.36249399e-01,\n",
       "       -1.65967345e-01, -8.08419526e-01, -9.59318817e-01,  3.45924497e-01,\n",
       "       -2.36006021e-01,  3.07158917e-01,  9.16424274e-01, -4.86356467e-01,\n",
       "        8.49341154e-01,  5.88565409e-01,  7.07144067e-02,  3.93251181e-01,\n",
       "        2.16327325e-01, -2.16915831e-01,  5.92149913e-01, -4.76395845e-01,\n",
       "       -6.61970451e-02,  4.87534285e-01,  4.11391526e-01, -8.04757178e-01,\n",
       "        3.45304087e-02, -5.29621899e-01, -6.12684906e-01,  6.34682894e-01,\n",
       "       -2.69399434e-01,  6.50301814e-01,  1.70396790e-01, -9.56520140e-01,\n",
       "       -5.31637132e-01, -9.12420213e-01,  1.64309502e+00, -4.66708094e-01,\n",
       "       -5.75646246e-03,  2.99319029e-01,  7.36905308e-03,  2.08503440e-01,\n",
       "        1.15380444e-01, -4.97716188e-01, -4.46508259e-01, -3.02146792e-01,\n",
       "       -4.65724140e-01,  1.95066586e-01,  5.87346852e-01, -4.74475026e-02,\n",
       "       -8.79513025e-01, -5.61177909e-01, -1.51531652e-01,  1.63501203e-01,\n",
       "       -1.46030867e+00,  5.86225331e-01,  3.80272150e-01, -2.38538221e-01,\n",
       "       -3.63866895e-01, -5.08717358e-01, -7.87971735e-01,  2.56477743e-01,\n",
       "       -1.01161182e+00,  1.61104873e-01,  8.53289068e-01,  2.70522177e-01,\n",
       "        1.86205268e-01, -7.27472126e-01,  2.42485240e-01, -1.72111332e-01,\n",
       "        3.34169269e-02, -1.90726161e-01, -1.14145346e-01, -1.52035832e-01,\n",
       "       -1.34135389e+00,  3.99761945e-01,  6.45550311e-01,  5.46369135e-01,\n",
       "        1.72917128e-01,  6.39835417e-01, -7.35002279e-01, -7.14762151e-01,\n",
       "        4.74762440e-01,  9.30834115e-02, -5.40202446e-02, -1.15860951e+00,\n",
       "       -1.51695115e-02,  8.30914006e-02, -9.41181123e-01, -1.18696295e-01,\n",
       "        5.60240038e-02,  2.97205538e-01, -5.54034710e-02, -7.20582232e-02,\n",
       "       -5.98516643e-01,  8.69266212e-01, -1.36462465e-01, -8.40983391e-01,\n",
       "        6.62727416e-01,  3.10320497e-01, -2.43020698e-01, -6.48328543e-01,\n",
       "        8.14332068e-02, -1.11444116e+00,  4.32174765e-02, -5.21592088e-02,\n",
       "       -8.07610452e-01,  4.99727717e-03,  6.70599282e-01, -2.47470424e-01,\n",
       "        2.95386344e-01,  1.53738725e+00,  6.12513959e-01,  6.84214458e-02,\n",
       "       -8.71755302e-01,  1.44550955e+00,  1.16061664e+00, -9.99971569e-01,\n",
       "       -1.15749609e+00,  2.50562042e-01,  2.83471435e-01,  2.65373260e-01,\n",
       "        1.99398756e-01, -7.32807159e-01, -1.80537149e-01, -4.65625525e-01,\n",
       "        2.45475173e-01, -6.72014534e-01, -7.79062063e-02,  3.06964070e-01,\n",
       "        6.02020323e-03, -1.19196147e-01,  4.35212255e-01, -7.87445366e-01,\n",
       "       -6.36239946e-01,  6.19364977e-01,  1.68842077e-01, -7.09220827e-01,\n",
       "       -2.12110400e-01, -5.43760359e-01,  9.80771780e-01, -7.10302353e-01,\n",
       "        5.70619285e-01, -4.19489503e-01,  9.02186856e-02, -5.80876231e-01,\n",
       "       -3.95846874e-01,  4.62798208e-01,  5.06921232e-01, -1.87358335e-01,\n",
       "       -6.71251535e-01, -2.98134446e-01,  3.47610682e-01,  1.04364686e-01,\n",
       "        6.82635248e-01, -4.14248705e-01, -4.91951078e-01,  5.19512109e-02,\n",
       "       -5.47032475e-01,  7.98109233e-01, -7.80663937e-02,  7.12350845e-01,\n",
       "       -9.18042362e-01,  1.04389286e+00,  9.17634547e-01, -2.60911167e-01,\n",
       "       -3.55903432e-03,  2.42110506e-01, -3.18508327e-01, -4.45396990e-01,\n",
       "       -5.23643374e-01,  3.25717449e-01,  2.51358956e-01,  1.33643878e+00,\n",
       "       -5.61719298e-01,  6.90167129e-01,  5.40598452e-01,  4.91631739e-02,\n",
       "        5.13620555e-01, -2.58019567e-01,  1.01069868e-01, -6.01506233e-01,\n",
       "        1.28061974e+00,  1.45239067e+00,  6.49305046e-01,  2.41846785e-01,\n",
       "        1.03454065e+00,  3.10330570e-01,  8.31245244e-01, -5.67736447e-01,\n",
       "       -3.18864107e-01, -1.33555219e-01,  9.27760303e-02, -5.45539796e-01,\n",
       "       -3.89227867e-01, -7.65020669e-01,  1.25608608e-01,  1.88464537e-01,\n",
       "       -8.66827488e-01, -4.41681236e-01, -9.86345708e-01,  2.69728810e-01,\n",
       "        8.97988796e-01, -2.65305713e-02, -4.76159096e-01, -7.26349294e-01,\n",
       "       -1.69695273e-01,  1.87010363e-01, -7.99495876e-02, -1.13863021e-01,\n",
       "       -5.28774679e-01, -1.68935359e-01, -3.80360126e-01,  4.00399834e-01,\n",
       "       -6.66773379e-01,  2.91954666e-01, -1.26439321e+00,  1.06813955e+00,\n",
       "        2.53202710e-02, -1.19237316e+00,  1.70748472e+00,  4.91108865e-01,\n",
       "        8.85483265e-01, -1.14293706e+00, -8.54096636e-02, -1.95294976e-01,\n",
       "       -1.30335113e-03,  1.96205854e-01,  5.39322197e-01, -3.38129193e-01,\n",
       "        2.22744271e-02,  8.99906978e-02, -5.66181839e-01, -3.34586263e-01,\n",
       "       -4.03705478e-01,  2.63192151e-02,  5.65391958e-01,  2.07115591e-01,\n",
       "        6.75318241e-01, -4.42198753e-01,  5.54514825e-01, -2.65752763e-01,\n",
       "        3.50104004e-01,  6.38106763e-02,  7.71470368e-04, -2.89244175e-01,\n",
       "       -3.50397617e-01, -7.01338291e-01, -9.00354147e-01, -4.87568945e-01,\n",
       "       -8.13870654e-02,  3.21852416e-01,  4.64007616e-01, -8.18143070e-01,\n",
       "       -1.17633975e+00, -8.66901934e-01, -9.75411236e-01, -9.33162212e-01,\n",
       "        2.61030793e-01,  2.01969132e-01, -8.66759941e-02,  5.52544177e-01,\n",
       "        1.04842293e+00,  4.59564239e-01, -2.52723753e-01, -5.27426183e-01,\n",
       "        2.10323736e-01,  4.43307370e-01,  6.06053770e-01,  6.33297622e-01],\n",
       "      dtype=float32)"
      ]
     },
     "execution_count": 105,
     "metadata": {},
     "output_type": "execute_result"
    }
   ],
   "source": [
    "model1.encode(\"This is a test\")"
   ]
  },
  {
   "cell_type": "code",
   "execution_count": 100,
   "metadata": {},
   "outputs": [],
   "source": [
    "np.testing.assert_allclose(model.encode(\"This is a test\"), model1.encode(\"This is a test\"), rtol=1e-03, atol=1e-05)"
   ]
  },
  {
   "cell_type": "code",
   "execution_count": 7,
   "metadata": {},
   "outputs": [],
   "source": [
    "# Input to the model\n",
    "x = torch.randn(batch_size, 1, 224, 224, requires_grad=True)\n",
    "torch_out = torch_model(x)\n",
    "\n",
    "# Export the model\n",
    "torch.onnx.export(torch_model,               # model being run\n",
    "                  x,                         # model input (or a tuple for multiple inputs)\n",
    "                  f_,   # where to save the model (can be a file or file-like object)\n",
    "                  export_params=True,        # store the trained parameter weights inside the model file\n",
    "                  opset_version=10,          # the ONNX version to export the model to\n",
    "                  do_constant_folding=True,  # whether to execute constant folding for optimization\n",
    "                  input_names = ['input'],   # the model's input names\n",
    "                  output_names = ['output'], # the model's output names\n",
    "                  dynamic_axes={'input' : {0 : 'batch_size'},    # variable length axes\n",
    "                                'output' : {0 : 'batch_size'}})"
   ]
  },
  {
   "cell_type": "code",
   "execution_count": 12,
   "metadata": {},
   "outputs": [],
   "source": [
    "import onnx\n",
    "\n",
    "onnx_model = f_.getvalue()\n",
    "onnx.checker.check_model(onnx_model)"
   ]
  },
  {
   "cell_type": "code",
   "execution_count": 18,
   "metadata": {},
   "outputs": [
    {
     "data": {
      "text/plain": [
       "240194"
      ]
     },
     "execution_count": 18,
     "metadata": {},
     "output_type": "execute_result"
    }
   ],
   "source": [
    "BytesIO()"
   ]
  },
  {
   "cell_type": "code",
   "execution_count": 15,
   "metadata": {},
   "outputs": [
    {
     "name": "stdout",
     "output_type": "stream",
     "text": [
      "Exported model has been tested with ONNXRuntime, and the result looks good!\n"
     ]
    }
   ],
   "source": [
    "import onnxruntime\n",
    "\n",
    "ort_session = onnxruntime.InferenceSession(f_.getvalue())\n",
    "\n",
    "def to_numpy(tensor):\n",
    "    return tensor.detach().cpu().numpy() if tensor.requires_grad else tensor.cpu().numpy()\n",
    "\n",
    "# compute ONNX Runtime output prediction\n",
    "ort_inputs = {ort_session.get_inputs()[0].name: to_numpy(x)}\n",
    "ort_outs = ort_session.run(None, ort_inputs)\n",
    "\n",
    "# compare ONNX Runtime and PyTorch results\n",
    "np.testing.assert_allclose(to_numpy(torch_out), ort_outs[0], rtol=1e-03, atol=1e-05)\n",
    "\n",
    "print(\"Exported model has been tested with ONNXRuntime, and the result looks good!\")"
   ]
  },
  {
   "cell_type": "code",
   "execution_count": 148,
   "metadata": {},
   "outputs": [
    {
     "ename": "AttributeError",
     "evalue": "'list' object has no attribute 'to_list'",
     "output_type": "error",
     "traceback": [
      "\u001b[0;31m---------------------------------------------------------------------------\u001b[0m",
      "\u001b[0;31mAttributeError\u001b[0m                            Traceback (most recent call last)",
      "\u001b[1;32m/Users/y.almutairi/Desktop/Workspace/InCoder/test.ipynb Cell 42\u001b[0m in \u001b[0;36m<cell line: 1>\u001b[0;34m()\u001b[0m\n\u001b[0;32m----> <a href='vscode-notebook-cell:/Users/y.almutairi/Desktop/Workspace/InCoder/test.ipynb#X64sZmlsZQ%3D%3D?line=0'>1</a>\u001b[0m ort_outs\u001b[39m.\u001b[39;49mto_list()\n",
      "\u001b[0;31mAttributeError\u001b[0m: 'list' object has no attribute 'to_list'"
     ]
    }
   ],
   "source": [
    "ort_outs."
   ]
  },
  {
   "cell_type": "code",
   "execution_count": 25,
   "metadata": {},
   "outputs": [],
   "source": [
    "files = [('model', open(\"super_resolution_1.onnx\", \"rb\"))]\n"
   ]
  },
  {
   "cell_type": "code",
   "execution_count": 92,
   "metadata": {},
   "outputs": [
    {
     "data": {
      "text/plain": [
       "{'detail': [{'loc': ['body', 'collection_name'],\n",
       "   'msg': 'value is not a valid enumeration member; permitted: ',\n",
       "   'type': 'type_error.enum',\n",
       "   'ctx': {'enum_values': []}}]}"
      ]
     },
     "execution_count": 92,
     "metadata": {},
     "output_type": "execute_result"
    }
   ],
   "source": []
  },
  {
   "cell_type": "code",
   "execution_count": 26,
   "metadata": {},
   "outputs": [],
   "source": [
    "r = requests.put(\"http://localhost:8000/onnx/upload\", data={'collection_name':'Descriptions index', 'vector_size':vector_size}, files=files )"
   ]
  },
  {
   "cell_type": "code",
   "execution_count": 27,
   "metadata": {},
   "outputs": [
    {
     "data": {
      "text/plain": [
       "'{\"message\":\"accepted\",\"collection\":\"Descriptions_index\",\"onnx_name\":\"super_resolution_1.onnx\",\"onnx_id\":\"4a5df9a7-90c5-4226-93d1-e5d9378b0939\"}'"
      ]
     },
     "execution_count": 27,
     "metadata": {},
     "output_type": "execute_result"
    }
   ],
   "source": [
    "r.text"
   ]
  },
  {
   "cell_type": "code",
   "execution_count": 106,
   "metadata": {},
   "outputs": [
    {
     "data": {
      "text/plain": [
       "{'detail': [{'loc': ['body'],\n",
       "   'msg': 'value is not a valid dict',\n",
       "   'type': 'type_error.dict'}]}"
      ]
     },
     "execution_count": 106,
     "metadata": {},
     "output_type": "execute_result"
    }
   ],
   "source": [
    "requests.post(\"http://localhost:8000/collections/create\", \n",
    "data={\"name\": \"Descriptions index\",\n",
    "    \"desc\": \"this collection is used to search descrptions of products\",\n",
    "    \"author\": \"Yasir\",\n",
    "    \"data\": reco,\n",
    "    \"encoded_fields\": ['description'],\n",
    "    \"encoder\":).json()"
   ]
  },
  {
   "cell_type": "code",
   "execution_count": null,
   "metadata": {},
   "outputs": [],
   "source": []
  }
 ],
 "metadata": {
  "kernelspec": {
   "display_name": "Python 3.9.13 ('venv': venv)",
   "language": "python",
   "name": "python3"
  },
  "language_info": {
   "codemirror_mode": {
    "name": "ipython",
    "version": 3
   },
   "file_extension": ".py",
   "mimetype": "text/x-python",
   "name": "python",
   "nbconvert_exporter": "python",
   "pygments_lexer": "ipython3",
   "version": "3.9.13"
  },
  "orig_nbformat": 4,
  "vscode": {
   "interpreter": {
    "hash": "833ffababf239a9762280e80bf0b3edd884958736984ce4d5fedf82c998cde8b"
   }
  }
 },
 "nbformat": 4,
 "nbformat_minor": 2
}
